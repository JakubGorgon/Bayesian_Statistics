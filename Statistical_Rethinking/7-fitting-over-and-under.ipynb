{
 "cells": [
  {
   "cell_type": "code",
   "execution_count": 1,
   "metadata": {},
   "outputs": [],
   "source": [
    "import numpy as np\n",
    "\n",
    "import pandas as pd\n",
    "\n",
    "import statsmodels.formula.api as smf\n",
    "\n",
    "import pymc as pm\n",
    "\n",
    "import xarray as xr\n",
    "\n",
    "import arviz as az\n",
    "\n",
    "import utils as utils\n",
    "\n",
    "from scipy import stats as stats\n",
    "\n",
    "from matplotlib import pyplot as plt"
   ]
  },
  {
   "cell_type": "markdown",
   "metadata": {},
   "source": [
    "### Simulate the plant growth experiment again"
   ]
  },
  {
   "cell_type": "code",
   "execution_count": 2,
   "metadata": {},
   "outputs": [
    {
     "data": {
      "text/html": [
       "<div>\n",
       "<style scoped>\n",
       "    .dataframe tbody tr th:only-of-type {\n",
       "        vertical-align: middle;\n",
       "    }\n",
       "\n",
       "    .dataframe tbody tr th {\n",
       "        vertical-align: top;\n",
       "    }\n",
       "\n",
       "    .dataframe thead th {\n",
       "        text-align: right;\n",
       "    }\n",
       "</style>\n",
       "<table border=\"1\" class=\"dataframe\">\n",
       "  <thead>\n",
       "    <tr style=\"text-align: right;\">\n",
       "      <th></th>\n",
       "      <th>count</th>\n",
       "      <th>mean</th>\n",
       "      <th>std</th>\n",
       "      <th>min</th>\n",
       "      <th>25%</th>\n",
       "      <th>50%</th>\n",
       "      <th>75%</th>\n",
       "      <th>max</th>\n",
       "    </tr>\n",
       "  </thead>\n",
       "  <tbody>\n",
       "    <tr>\n",
       "      <th>H0</th>\n",
       "      <td>100.0</td>\n",
       "      <td>9.711385</td>\n",
       "      <td>2.102440</td>\n",
       "      <td>3.705167</td>\n",
       "      <td>8.522114</td>\n",
       "      <td>9.779218</td>\n",
       "      <td>11.008820</td>\n",
       "      <td>15.743639</td>\n",
       "    </tr>\n",
       "    <tr>\n",
       "      <th>treatment</th>\n",
       "      <td>100.0</td>\n",
       "      <td>0.550000</td>\n",
       "      <td>0.500000</td>\n",
       "      <td>0.000000</td>\n",
       "      <td>0.000000</td>\n",
       "      <td>1.000000</td>\n",
       "      <td>1.000000</td>\n",
       "      <td>1.000000</td>\n",
       "    </tr>\n",
       "    <tr>\n",
       "      <th>fungus</th>\n",
       "      <td>100.0</td>\n",
       "      <td>0.250000</td>\n",
       "      <td>0.435194</td>\n",
       "      <td>0.000000</td>\n",
       "      <td>0.000000</td>\n",
       "      <td>0.000000</td>\n",
       "      <td>0.250000</td>\n",
       "      <td>1.000000</td>\n",
       "    </tr>\n",
       "    <tr>\n",
       "      <th>H1</th>\n",
       "      <td>100.0</td>\n",
       "      <td>14.040887</td>\n",
       "      <td>2.587388</td>\n",
       "      <td>8.749880</td>\n",
       "      <td>12.286543</td>\n",
       "      <td>13.830425</td>\n",
       "      <td>15.764303</td>\n",
       "      <td>20.348779</td>\n",
       "    </tr>\n",
       "    <tr>\n",
       "      <th>growth</th>\n",
       "      <td>100.0</td>\n",
       "      <td>4.329502</td>\n",
       "      <td>1.719949</td>\n",
       "      <td>-0.604996</td>\n",
       "      <td>3.259297</td>\n",
       "      <td>4.824692</td>\n",
       "      <td>5.532195</td>\n",
       "      <td>7.533324</td>\n",
       "    </tr>\n",
       "  </tbody>\n",
       "</table>\n",
       "</div>"
      ],
      "text/plain": [
       "           count       mean       std       min        25%        50%  \\\n",
       "H0         100.0   9.711385  2.102440  3.705167   8.522114   9.779218   \n",
       "treatment  100.0   0.550000  0.500000  0.000000   0.000000   1.000000   \n",
       "fungus     100.0   0.250000  0.435194  0.000000   0.000000   0.000000   \n",
       "H1         100.0  14.040887  2.587388  8.749880  12.286543  13.830425   \n",
       "growth     100.0   4.329502  1.719949 -0.604996   3.259297   4.824692   \n",
       "\n",
       "                 75%        max  \n",
       "H0         11.008820  15.743639  \n",
       "treatment   1.000000   1.000000  \n",
       "fungus      0.250000   1.000000  \n",
       "H1         15.764303  20.348779  \n",
       "growth      5.532195   7.533324  "
      ]
     },
     "execution_count": 2,
     "metadata": {},
     "output_type": "execute_result"
    }
   ],
   "source": [
    "np.random.seed(12)\n",
    "\n",
    "n_plants = 100\n",
    "\n",
    "# Simulate initial heights\n",
    "H0 = stats.norm.rvs(10, 2, size=n_plants)\n",
    "\n",
    "\n",
    "# Treatment aids plant growth indirectly by reducing fungus,\n",
    "# which has a negative effect on plant growth\n",
    "\n",
    "# Simulate treatment\n",
    "treatment = stats.bernoulli.rvs(p=0.5, size=n_plants)\n",
    "\n",
    "# Simulate fungus growth conditioned on treatment\n",
    "p_star = 0.5 - (treatment * 0.4)  # fungus is random when untreated, otherwise 10% chance\n",
    "fungus = stats.bernoulli.rvs(p=p_star)\n",
    "\n",
    "# Simulate final heights based on fungus\n",
    "BETA_F = -3  # fungus hurts growth\n",
    "ALPHA = 5\n",
    "SIGMA = 1\n",
    "\n",
    "mu = ALPHA + BETA_F * fungus\n",
    "H1 = H0 + stats.norm.rvs(mu, SIGMA)\n",
    "\n",
    "plants = pd.DataFrame(\n",
    "    {\n",
    "        \"H0\": H0,\n",
    "        \"treatment\": treatment,\n",
    "        \"fungus\": fungus,\n",
    "        \"H1\": H1,\n",
    "        \"growth\": H1 - H0\n",
    "    }\n",
    ")\n",
    "plants.describe().T"
   ]
  },
  {
   "cell_type": "code",
   "execution_count": 3,
   "metadata": {},
   "outputs": [
    {
     "data": {
      "text/html": [
       "<div>\n",
       "<style scoped>\n",
       "    .dataframe tbody tr th:only-of-type {\n",
       "        vertical-align: middle;\n",
       "    }\n",
       "\n",
       "    .dataframe tbody tr th {\n",
       "        vertical-align: top;\n",
       "    }\n",
       "\n",
       "    .dataframe thead th {\n",
       "        text-align: right;\n",
       "    }\n",
       "</style>\n",
       "<table border=\"1\" class=\"dataframe\">\n",
       "  <thead>\n",
       "    <tr style=\"text-align: right;\">\n",
       "      <th></th>\n",
       "      <th>H0</th>\n",
       "      <th>treatment</th>\n",
       "      <th>fungus</th>\n",
       "      <th>H1</th>\n",
       "      <th>growth</th>\n",
       "    </tr>\n",
       "  </thead>\n",
       "  <tbody>\n",
       "    <tr>\n",
       "      <th>0</th>\n",
       "      <td>10.945972</td>\n",
       "      <td>0</td>\n",
       "      <td>1</td>\n",
       "      <td>12.436328</td>\n",
       "      <td>1.490356</td>\n",
       "    </tr>\n",
       "    <tr>\n",
       "      <th>1</th>\n",
       "      <td>8.637148</td>\n",
       "      <td>0</td>\n",
       "      <td>0</td>\n",
       "      <td>13.162155</td>\n",
       "      <td>4.525007</td>\n",
       "    </tr>\n",
       "    <tr>\n",
       "      <th>2</th>\n",
       "      <td>10.484879</td>\n",
       "      <td>0</td>\n",
       "      <td>1</td>\n",
       "      <td>11.693451</td>\n",
       "      <td>1.208572</td>\n",
       "    </tr>\n",
       "    <tr>\n",
       "      <th>3</th>\n",
       "      <td>6.598529</td>\n",
       "      <td>0</td>\n",
       "      <td>0</td>\n",
       "      <td>9.905410</td>\n",
       "      <td>3.306881</td>\n",
       "    </tr>\n",
       "    <tr>\n",
       "      <th>4</th>\n",
       "      <td>11.506286</td>\n",
       "      <td>0</td>\n",
       "      <td>0</td>\n",
       "      <td>15.765123</td>\n",
       "      <td>4.258837</td>\n",
       "    </tr>\n",
       "    <tr>\n",
       "      <th>...</th>\n",
       "      <td>...</td>\n",
       "      <td>...</td>\n",
       "      <td>...</td>\n",
       "      <td>...</td>\n",
       "      <td>...</td>\n",
       "    </tr>\n",
       "    <tr>\n",
       "      <th>95</th>\n",
       "      <td>8.061647</td>\n",
       "      <td>0</td>\n",
       "      <td>1</td>\n",
       "      <td>10.576356</td>\n",
       "      <td>2.514709</td>\n",
       "    </tr>\n",
       "    <tr>\n",
       "      <th>96</th>\n",
       "      <td>11.743936</td>\n",
       "      <td>1</td>\n",
       "      <td>0</td>\n",
       "      <td>16.912234</td>\n",
       "      <td>5.168298</td>\n",
       "    </tr>\n",
       "    <tr>\n",
       "      <th>97</th>\n",
       "      <td>7.107281</td>\n",
       "      <td>0</td>\n",
       "      <td>0</td>\n",
       "      <td>13.477811</td>\n",
       "      <td>6.370530</td>\n",
       "    </tr>\n",
       "    <tr>\n",
       "      <th>98</th>\n",
       "      <td>8.927037</td>\n",
       "      <td>1</td>\n",
       "      <td>0</td>\n",
       "      <td>13.198237</td>\n",
       "      <td>4.271199</td>\n",
       "    </tr>\n",
       "    <tr>\n",
       "      <th>99</th>\n",
       "      <td>10.395841</td>\n",
       "      <td>0</td>\n",
       "      <td>1</td>\n",
       "      <td>11.191937</td>\n",
       "      <td>0.796096</td>\n",
       "    </tr>\n",
       "  </tbody>\n",
       "</table>\n",
       "<p>100 rows × 5 columns</p>\n",
       "</div>"
      ],
      "text/plain": [
       "           H0  treatment  fungus         H1    growth\n",
       "0   10.945972          0       1  12.436328  1.490356\n",
       "1    8.637148          0       0  13.162155  4.525007\n",
       "2   10.484879          0       1  11.693451  1.208572\n",
       "3    6.598529          0       0   9.905410  3.306881\n",
       "4   11.506286          0       0  15.765123  4.258837\n",
       "..        ...        ...     ...        ...       ...\n",
       "95   8.061647          0       1  10.576356  2.514709\n",
       "96  11.743936          1       0  16.912234  5.168298\n",
       "97   7.107281          0       0  13.477811  6.370530\n",
       "98   8.927037          1       0  13.198237  4.271199\n",
       "99  10.395841          0       1  11.191937  0.796096\n",
       "\n",
       "[100 rows x 5 columns]"
      ]
     },
     "execution_count": 3,
     "metadata": {},
     "output_type": "execute_result"
    }
   ],
   "source": [
    "plants"
   ]
  },
  {
   "cell_type": "markdown",
   "metadata": {},
   "source": [
    "If we are focusing on the total causal affect of Treatment, $T$ on final height $H1$\n",
    "\n",
    "#### Incorrect adjustment set (stratifying by $F$)\n",
    "\n",
    "$$\n",
    "\\begin{align*}\n",
    "H_1 &\\sim \\mathcal{N}(\\mu_i, \\sigma) \\\\\n",
    "\\mu_i &= H_0 \\times g_i \\\\\n",
    "g_i &= \\alpha + \\beta_T T_i + \\beta_F F_i\n",
    "\\end{align*}\n",
    "$$\n",
    "\n",
    "- incorporates treatment $T$ _and_ fungus, $F$, which is a post-treatment variable (bad for causal inference)\n",
    "- $F$ would not have been found using backdoor criterion\n",
    "- However, provides more accurate predictions than not incorporating $F$\n"
   ]
  },
  {
   "cell_type": "code",
   "execution_count": null,
   "metadata": {},
   "outputs": [
    {
     "name": "stderr",
     "output_type": "stream",
     "text": [
      "Auto-assigning NUTS sampler...\n",
      "Initializing NUTS using jitter+adapt_diag...\n",
      "Multiprocess sampling (2 chains in 2 jobs)\n",
      "NUTS: [sigma, alpha, beta_T, beta_F]\n"
     ]
    },
    {
     "data": {
      "text/html": [
       "\n",
       "<style>\n",
       "    /* Turns off some styling */\n",
       "    progress {\n",
       "        /* gets rid of default border in Firefox and Opera. */\n",
       "        border: none;\n",
       "        /* Needs to be in here for Safari polyfill so background images work as expected. */\n",
       "        background-size: auto;\n",
       "    }\n",
       "    progress:not([value]), progress:not([value])::-webkit-progress-bar {\n",
       "        background: repeating-linear-gradient(45deg, #7e7e7e, #7e7e7e 10px, #5c5c5c 10px, #5c5c5c 20px);\n",
       "    }\n",
       "    .progress-bar-interrupted, .progress-bar-interrupted::-webkit-progress-bar {\n",
       "        background: #F44336;\n",
       "    }\n",
       "</style>\n"
      ],
      "text/plain": [
       "<IPython.core.display.HTML object>"
      ]
     },
     "metadata": {},
     "output_type": "display_data"
    },
    {
     "data": {
      "text/html": [
       "\n",
       "    <div>\n",
       "      <progress value='4000' class='' max='4000' style='width:300px; height:20px; vertical-align: middle;'></progress>\n",
       "      100.00% [4000/4000 00:12&lt;00:00 Sampling 2 chains, 0 divergences]\n",
       "    </div>\n",
       "    "
      ],
      "text/plain": [
       "<IPython.core.display.HTML object>"
      ]
     },
     "metadata": {},
     "output_type": "display_data"
    },
    {
     "name": "stderr",
     "output_type": "stream",
     "text": [
      "Sampling 2 chains for 1_000 tune and 1_000 draw iterations (2_000 + 2_000 draws total) took 39 seconds.\n",
      "We recommend running at least 4 chains for robust computation of convergence diagnostics\n"
     ]
    },
    {
     "data": {
      "text/html": [
       "\n",
       "<style>\n",
       "    /* Turns off some styling */\n",
       "    progress {\n",
       "        /* gets rid of default border in Firefox and Opera. */\n",
       "        border: none;\n",
       "        /* Needs to be in here for Safari polyfill so background images work as expected. */\n",
       "        background-size: auto;\n",
       "    }\n",
       "    progress:not([value]), progress:not([value])::-webkit-progress-bar {\n",
       "        background: repeating-linear-gradient(45deg, #7e7e7e, #7e7e7e 10px, #5c5c5c 10px, #5c5c5c 20px);\n",
       "    }\n",
       "    .progress-bar-interrupted, .progress-bar-interrupted::-webkit-progress-bar {\n",
       "        background: #F44336;\n",
       "    }\n",
       "</style>\n"
      ],
      "text/plain": [
       "<IPython.core.display.HTML object>"
      ]
     },
     "metadata": {},
     "output_type": "display_data"
    },
    {
     "data": {
      "text/html": [
       "\n",
       "    <div>\n",
       "      <progress value='2000' class='' max='2000' style='width:300px; height:20px; vertical-align: middle;'></progress>\n",
       "      100.00% [2000/2000 00:00&lt;00:00]\n",
       "    </div>\n",
       "    "
      ],
      "text/plain": [
       "<IPython.core.display.HTML object>"
      ]
     },
     "metadata": {},
     "output_type": "display_data"
    },
    {
     "data": {
      "image/svg+xml": [
       "<?xml version=\"1.0\" encoding=\"UTF-8\" standalone=\"no\"?>\n",
       "<!DOCTYPE svg PUBLIC \"-//W3C//DTD SVG 1.1//EN\"\n",
       " \"http://www.w3.org/Graphics/SVG/1.1/DTD/svg11.dtd\">\n",
       "<!-- Generated by graphviz version 2.50.0 (0)\n",
       " -->\n",
       "<!-- Pages: 1 -->\n",
       "<svg width=\"671pt\" height=\"238pt\"\n",
       " viewBox=\"0.00 0.00 670.70 237.93\" xmlns=\"http://www.w3.org/2000/svg\" xmlns:xlink=\"http://www.w3.org/1999/xlink\">\n",
       "<g id=\"graph0\" class=\"graph\" transform=\"scale(1 1) rotate(0) translate(4 233.93)\">\n",
       "<polygon fill=\"white\" stroke=\"transparent\" points=\"-4,4 -4,-233.93 666.7,-233.93 666.7,4 -4,4\"/>\n",
       "<g id=\"clust1\" class=\"cluster\">\n",
       "<title>cluster100</title>\n",
       "<path fill=\"none\" stroke=\"black\" d=\"M105.72,-8C105.72,-8 291.72,-8 291.72,-8 297.72,-8 303.72,-14 303.72,-20 303.72,-20 303.72,-209.93 303.72,-209.93 303.72,-215.93 297.72,-221.93 291.72,-221.93 291.72,-221.93 105.72,-221.93 105.72,-221.93 99.72,-221.93 93.72,-215.93 93.72,-209.93 93.72,-209.93 93.72,-20 93.72,-20 93.72,-14 99.72,-8 105.72,-8\"/>\n",
       "<text text-anchor=\"middle\" x=\"285.22\" y=\"-15.8\" font-family=\"Times New Roman,serif\" font-size=\"14.00\">100</text>\n",
       "</g>\n",
       "<!-- beta_F -->\n",
       "<g id=\"node1\" class=\"node\">\n",
       "<title>beta_F</title>\n",
       "<ellipse fill=\"none\" stroke=\"black\" cx=\"41.72\" cy=\"-187.43\" rx=\"41.94\" ry=\"37.45\"/>\n",
       "<text text-anchor=\"middle\" x=\"41.72\" y=\"-198.73\" font-family=\"Times New Roman,serif\" font-size=\"14.00\">beta_F</text>\n",
       "<text text-anchor=\"middle\" x=\"41.72\" y=\"-183.73\" font-family=\"Times New Roman,serif\" font-size=\"14.00\">~</text>\n",
       "<text text-anchor=\"middle\" x=\"41.72\" y=\"-168.73\" font-family=\"Times New Roman,serif\" font-size=\"14.00\">Normal</text>\n",
       "</g>\n",
       "<!-- H1 -->\n",
       "<g id=\"node6\" class=\"node\">\n",
       "<title>H1</title>\n",
       "<ellipse fill=\"lightgrey\" stroke=\"black\" cx=\"252.72\" cy=\"-76.48\" rx=\"41.94\" ry=\"37.45\"/>\n",
       "<text text-anchor=\"middle\" x=\"252.72\" y=\"-87.78\" font-family=\"Times New Roman,serif\" font-size=\"14.00\">H1</text>\n",
       "<text text-anchor=\"middle\" x=\"252.72\" y=\"-72.78\" font-family=\"Times New Roman,serif\" font-size=\"14.00\">~</text>\n",
       "<text text-anchor=\"middle\" x=\"252.72\" y=\"-57.78\" font-family=\"Times New Roman,serif\" font-size=\"14.00\">Normal</text>\n",
       "</g>\n",
       "<!-- beta_F&#45;&gt;H1 -->\n",
       "<g id=\"edge3\" class=\"edge\">\n",
       "<title>beta_F&#45;&gt;H1</title>\n",
       "<path fill=\"none\" stroke=\"black\" d=\"M72.23,-161.6C77.89,-157.47 83.86,-153.42 89.72,-149.95 126.72,-128.07 171.51,-108.61 204.77,-95.38\"/>\n",
       "<polygon fill=\"black\" stroke=\"black\" points=\"206.24,-98.56 214.27,-91.65 203.68,-92.05 206.24,-98.56\"/>\n",
       "</g>\n",
       "<!-- alpha -->\n",
       "<g id=\"node2\" class=\"node\">\n",
       "<title>alpha</title>\n",
       "<ellipse fill=\"none\" stroke=\"black\" cx=\"370.72\" cy=\"-187.43\" rx=\"56.64\" ry=\"37.45\"/>\n",
       "<text text-anchor=\"middle\" x=\"370.72\" y=\"-198.73\" font-family=\"Times New Roman,serif\" font-size=\"14.00\">alpha</text>\n",
       "<text text-anchor=\"middle\" x=\"370.72\" y=\"-183.73\" font-family=\"Times New Roman,serif\" font-size=\"14.00\">~</text>\n",
       "<text text-anchor=\"middle\" x=\"370.72\" y=\"-168.73\" font-family=\"Times New Roman,serif\" font-size=\"14.00\">LogNormal</text>\n",
       "</g>\n",
       "<!-- alpha&#45;&gt;H1 -->\n",
       "<g id=\"edge2\" class=\"edge\">\n",
       "<title>alpha&#45;&gt;H1</title>\n",
       "<path fill=\"none\" stroke=\"black\" d=\"M338.16,-156.37C322.92,-142.3 304.71,-125.48 289.02,-111\"/>\n",
       "<polygon fill=\"black\" stroke=\"black\" points=\"291.27,-108.31 281.55,-104.1 286.52,-113.45 291.27,-108.31\"/>\n",
       "</g>\n",
       "<!-- beta_T -->\n",
       "<g id=\"node3\" class=\"node\">\n",
       "<title>beta_T</title>\n",
       "<ellipse fill=\"none\" stroke=\"black\" cx=\"486.72\" cy=\"-187.43\" rx=\"41.94\" ry=\"37.45\"/>\n",
       "<text text-anchor=\"middle\" x=\"486.72\" y=\"-198.73\" font-family=\"Times New Roman,serif\" font-size=\"14.00\">beta_T</text>\n",
       "<text text-anchor=\"middle\" x=\"486.72\" y=\"-183.73\" font-family=\"Times New Roman,serif\" font-size=\"14.00\">~</text>\n",
       "<text text-anchor=\"middle\" x=\"486.72\" y=\"-168.73\" font-family=\"Times New Roman,serif\" font-size=\"14.00\">Normal</text>\n",
       "</g>\n",
       "<!-- beta_T&#45;&gt;H1 -->\n",
       "<g id=\"edge5\" class=\"edge\">\n",
       "<title>beta_T&#45;&gt;H1</title>\n",
       "<path fill=\"none\" stroke=\"black\" d=\"M455.79,-162C449.65,-157.7 443.12,-153.47 436.72,-149.95 393.08,-125.96 339.83,-105.89 301.86,-93\"/>\n",
       "<polygon fill=\"black\" stroke=\"black\" points=\"302.66,-89.58 292.07,-89.72 300.44,-96.21 302.66,-89.58\"/>\n",
       "</g>\n",
       "<!-- sigma -->\n",
       "<g id=\"node4\" class=\"node\">\n",
       "<title>sigma</title>\n",
       "<ellipse fill=\"none\" stroke=\"black\" cx=\"604.72\" cy=\"-187.43\" rx=\"57.97\" ry=\"37.45\"/>\n",
       "<text text-anchor=\"middle\" x=\"604.72\" y=\"-198.73\" font-family=\"Times New Roman,serif\" font-size=\"14.00\">sigma</text>\n",
       "<text text-anchor=\"middle\" x=\"604.72\" y=\"-183.73\" font-family=\"Times New Roman,serif\" font-size=\"14.00\">~</text>\n",
       "<text text-anchor=\"middle\" x=\"604.72\" y=\"-168.73\" font-family=\"Times New Roman,serif\" font-size=\"14.00\">Exponential</text>\n",
       "</g>\n",
       "<!-- sigma&#45;&gt;H1 -->\n",
       "<g id=\"edge6\" class=\"edge\">\n",
       "<title>sigma&#45;&gt;H1</title>\n",
       "<path fill=\"none\" stroke=\"black\" d=\"M562.59,-161.44C554.51,-157.24 545.98,-153.19 537.72,-149.95 458.58,-118.91 361.83,-97.59 303.85,-86.48\"/>\n",
       "<polygon fill=\"black\" stroke=\"black\" points=\"304.31,-83 293.83,-84.58 303.01,-89.88 304.31,-83\"/>\n",
       "</g>\n",
       "<!-- T -->\n",
       "<g id=\"node5\" class=\"node\">\n",
       "<title>T</title>\n",
       "<path fill=\"lightgrey\" stroke=\"black\" d=\"M283.72,-213.93C283.72,-213.93 219.72,-213.93 219.72,-213.93 213.72,-213.93 207.72,-207.93 207.72,-201.93 207.72,-201.93 207.72,-172.93 207.72,-172.93 207.72,-166.93 213.72,-160.93 219.72,-160.93 219.72,-160.93 283.72,-160.93 283.72,-160.93 289.72,-160.93 295.72,-166.93 295.72,-172.93 295.72,-172.93 295.72,-201.93 295.72,-201.93 295.72,-207.93 289.72,-213.93 283.72,-213.93\"/>\n",
       "<text text-anchor=\"middle\" x=\"251.72\" y=\"-198.73\" font-family=\"Times New Roman,serif\" font-size=\"14.00\">T</text>\n",
       "<text text-anchor=\"middle\" x=\"251.72\" y=\"-183.73\" font-family=\"Times New Roman,serif\" font-size=\"14.00\">~</text>\n",
       "<text text-anchor=\"middle\" x=\"251.72\" y=\"-168.73\" font-family=\"Times New Roman,serif\" font-size=\"14.00\">MutableData</text>\n",
       "</g>\n",
       "<!-- T&#45;&gt;H1 -->\n",
       "<g id=\"edge1\" class=\"edge\">\n",
       "<title>T&#45;&gt;H1</title>\n",
       "<path fill=\"none\" stroke=\"black\" d=\"M251.95,-160.89C252.05,-149.98 252.17,-136.89 252.29,-124.35\"/>\n",
       "<polygon fill=\"black\" stroke=\"black\" points=\"255.79,-124.03 252.38,-114 248.79,-123.97 255.79,-124.03\"/>\n",
       "</g>\n",
       "<!-- F -->\n",
       "<g id=\"node7\" class=\"node\">\n",
       "<title>F</title>\n",
       "<path fill=\"lightgrey\" stroke=\"black\" d=\"M177.72,-213.93C177.72,-213.93 113.72,-213.93 113.72,-213.93 107.72,-213.93 101.72,-207.93 101.72,-201.93 101.72,-201.93 101.72,-172.93 101.72,-172.93 101.72,-166.93 107.72,-160.93 113.72,-160.93 113.72,-160.93 177.72,-160.93 177.72,-160.93 183.72,-160.93 189.72,-166.93 189.72,-172.93 189.72,-172.93 189.72,-201.93 189.72,-201.93 189.72,-207.93 183.72,-213.93 177.72,-213.93\"/>\n",
       "<text text-anchor=\"middle\" x=\"145.72\" y=\"-198.73\" font-family=\"Times New Roman,serif\" font-size=\"14.00\">F</text>\n",
       "<text text-anchor=\"middle\" x=\"145.72\" y=\"-183.73\" font-family=\"Times New Roman,serif\" font-size=\"14.00\">~</text>\n",
       "<text text-anchor=\"middle\" x=\"145.72\" y=\"-168.73\" font-family=\"Times New Roman,serif\" font-size=\"14.00\">MutableData</text>\n",
       "</g>\n",
       "<!-- F&#45;&gt;H1 -->\n",
       "<g id=\"edge4\" class=\"edge\">\n",
       "<title>F&#45;&gt;H1</title>\n",
       "<path fill=\"none\" stroke=\"black\" d=\"M170.81,-160.89C184.93,-146.51 202.77,-128.34 218.19,-112.64\"/>\n",
       "<polygon fill=\"black\" stroke=\"black\" points=\"221.03,-114.74 225.54,-105.15 216.04,-109.83 221.03,-114.74\"/>\n",
       "</g>\n",
       "</g>\n",
       "</svg>\n"
      ],
      "text/plain": [
       "<graphviz.graphs.Digraph at 0x1e7474a9d20>"
      ]
     },
     "execution_count": 4,
     "metadata": {},
     "output_type": "execute_result"
    }
   ],
   "source": [
    "with pm.Model() as biased_model:\n",
    "    # Priors\n",
    "    sigma = pm.Exponential(\"sigma\", 1)\n",
    "    alpha = pm.LogNormal(\"alpha\", 0.2)\n",
    "    beta_T = pm.Normal(\"beta_T\", 0, 0.5)\n",
    "    beta_F = pm.Normal(\"beta_F\", 0, 0.5)\n",
    "\n",
    "    H0 = plants.H0.values\n",
    "    H1 = plants.H1.values\n",
    "    \n",
    "    T = pm.MutableData(\"T\", treatment.astype(float))\n",
    "    F = pm.MutableData(\"F\", fungus.astype(float))\n",
    "    \n",
    "    # proportional amount of growth\n",
    "    g = alpha + beta_T * T + beta_F * F\n",
    "    mu = g * H0\n",
    "    \n",
    "    # Likelihood\n",
    "    pm.Normal(\"H1\", mu, sigma, observed=H1)\n",
    "    \n",
    "    biased_inference = pm.sample(target_accept=.95)\n",
    "    pm.compute_log_likelihood(biased_inference)\n",
    "    \n",
    "pm.model_to_graphviz(biased_model)"
   ]
  },
  {
   "cell_type": "code",
   "execution_count": 14,
   "metadata": {},
   "outputs": [],
   "source": [
    "import seaborn as sns"
   ]
  },
  {
   "cell_type": "code",
   "execution_count": 15,
   "metadata": {},
   "outputs": [
    {
     "data": {
      "text/plain": [
       "<Axes: ylabel='Count'>"
      ]
     },
     "execution_count": 15,
     "metadata": {},
     "output_type": "execute_result"
    },
    {
     "data": {
      "image/png": "[encoded data removed]",
      "text/plain": [
       "<Figure size 640x480 with 1 Axes>"
      ]
     },
     "metadata": {},
     "output_type": "display_data"
    }
   ],
   "source": [
    "sns.histplot(x=biased_inference[\"posterior\"]['beta_T'].values.reshape(-1))"
   ]
  },
  {
   "cell_type": "code",
   "execution_count": 16,
   "metadata": {},
   "outputs": [
    {
     "data": {
      "text/plain": [
       "array([1, 0, 1, 0, 0, 0, 0, 1, 0, 0, 0, 0, 1, 0, 0, 1, 0, 0, 0, 0, 1, 0,\n",
       "       0, 0, 0, 0, 0, 0, 0, 0, 0, 0, 0, 0, 0, 1, 0, 1, 0, 1, 1, 0, 0, 0,\n",
       "       0, 0, 0, 1, 0, 0, 0, 1, 0, 0, 0, 0, 1, 0, 0, 0, 0, 0, 0, 1, 0, 0,\n",
       "       0, 0, 0, 0, 0, 0, 0, 0, 1, 1, 0, 1, 1, 1, 0, 0, 0, 0, 0, 0, 1, 1,\n",
       "       0, 0, 0, 1, 1, 0, 0, 1, 0, 0, 0, 1], dtype=int64)"
      ]
     },
     "execution_count": 16,
     "metadata": {},
     "output_type": "execute_result"
    }
   ],
   "source": [
    "fungus"
   ]
  },
  {
   "cell_type": "code",
   "execution_count": 17,
   "metadata": {},
   "outputs": [
    {
     "name": "stderr",
     "output_type": "stream",
     "text": [
      "Auto-assigning NUTS sampler...\n",
      "Initializing NUTS using jitter+adapt_diag...\n",
      "Multiprocess sampling (2 chains in 2 jobs)\n",
      "NUTS: [sigma, alpha, beta_T]\n"
     ]
    },
    {
     "data": {
      "text/html": [
       "\n",
       "<style>\n",
       "    /* Turns off some styling */\n",
       "    progress {\n",
       "        /* gets rid of default border in Firefox and Opera. */\n",
       "        border: none;\n",
       "        /* Needs to be in here for Safari polyfill so background images work as expected. */\n",
       "        background-size: auto;\n",
       "    }\n",
       "    progress:not([value]), progress:not([value])::-webkit-progress-bar {\n",
       "        background: repeating-linear-gradient(45deg, #7e7e7e, #7e7e7e 10px, #5c5c5c 10px, #5c5c5c 20px);\n",
       "    }\n",
       "    .progress-bar-interrupted, .progress-bar-interrupted::-webkit-progress-bar {\n",
       "        background: #F44336;\n",
       "    }\n",
       "</style>\n"
      ],
      "text/plain": [
       "<IPython.core.display.HTML object>"
      ]
     },
     "metadata": {},
     "output_type": "display_data"
    },
    {
     "data": {
      "text/html": [
       "\n",
       "    <div>\n",
       "      <progress value='4000' class='' max='4000' style='width:300px; height:20px; vertical-align: middle;'></progress>\n",
       "      100.00% [4000/4000 00:06&lt;00:00 Sampling 2 chains, 0 divergences]\n",
       "    </div>\n",
       "    "
      ],
      "text/plain": [
       "<IPython.core.display.HTML object>"
      ]
     },
     "metadata": {},
     "output_type": "display_data"
    },
    {
     "name": "stderr",
     "output_type": "stream",
     "text": [
      "Sampling 2 chains for 1_000 tune and 1_000 draw iterations (2_000 + 2_000 draws total) took 78 seconds.\n",
      "We recommend running at least 4 chains for robust computation of convergence diagnostics\n"
     ]
    },
    {
     "data": {
      "text/html": [
       "\n",
       "<style>\n",
       "    /* Turns off some styling */\n",
       "    progress {\n",
       "        /* gets rid of default border in Firefox and Opera. */\n",
       "        border: none;\n",
       "        /* Needs to be in here for Safari polyfill so background images work as expected. */\n",
       "        background-size: auto;\n",
       "    }\n",
       "    progress:not([value]), progress:not([value])::-webkit-progress-bar {\n",
       "        background: repeating-linear-gradient(45deg, #7e7e7e, #7e7e7e 10px, #5c5c5c 10px, #5c5c5c 20px);\n",
       "    }\n",
       "    .progress-bar-interrupted, .progress-bar-interrupted::-webkit-progress-bar {\n",
       "        background: #F44336;\n",
       "    }\n",
       "</style>\n"
      ],
      "text/plain": [
       "<IPython.core.display.HTML object>"
      ]
     },
     "metadata": {},
     "output_type": "display_data"
    },
    {
     "data": {
      "text/html": [
       "\n",
       "    <div>\n",
       "      <progress value='2000' class='' max='2000' style='width:300px; height:20px; vertical-align: middle;'></progress>\n",
       "      100.00% [2000/2000 00:00&lt;00:00]\n",
       "    </div>\n",
       "    "
      ],
      "text/plain": [
       "<IPython.core.display.HTML object>"
      ]
     },
     "metadata": {},
     "output_type": "display_data"
    },
    {
     "data": {
      "image/svg+xml": [
       "<?xml version=\"1.0\" encoding=\"UTF-8\" standalone=\"no\"?>\n",
       "<!DOCTYPE svg PUBLIC \"-//W3C//DTD SVG 1.1//EN\"\n",
       " \"http://www.w3.org/Graphics/SVG/1.1/DTD/svg11.dtd\">\n",
       "<!-- Generated by graphviz version 2.50.0 (0)\n",
       " -->\n",
       "<!-- Pages: 1 -->\n",
       "<svg width=\"570pt\" height=\"238pt\"\n",
       " viewBox=\"0.00 0.00 569.55 237.93\" xmlns=\"http://www.w3.org/2000/svg\" xmlns:xlink=\"http://www.w3.org/1999/xlink\">\n",
       "<g id=\"graph0\" class=\"graph\" transform=\"scale(1 1) rotate(0) translate(4 233.93)\">\n",
       "<polygon fill=\"white\" stroke=\"transparent\" points=\"-4,4 -4,-233.93 565.55,-233.93 565.55,4 -4,4\"/>\n",
       "<g id=\"clust1\" class=\"cluster\">\n",
       "<title>cluster100</title>\n",
       "<path fill=\"none\" stroke=\"black\" d=\"M135.57,-8C135.57,-8 321.57,-8 321.57,-8 327.57,-8 333.57,-14 333.57,-20 333.57,-20 333.57,-209.93 333.57,-209.93 333.57,-215.93 327.57,-221.93 321.57,-221.93 321.57,-221.93 135.57,-221.93 135.57,-221.93 129.57,-221.93 123.57,-215.93 123.57,-209.93 123.57,-209.93 123.57,-20 123.57,-20 123.57,-14 129.57,-8 135.57,-8\"/>\n",
       "<text text-anchor=\"middle\" x=\"315.07\" y=\"-15.8\" font-family=\"Times New Roman,serif\" font-size=\"14.00\">100</text>\n",
       "</g>\n",
       "<!-- alpha -->\n",
       "<g id=\"node1\" class=\"node\">\n",
       "<title>alpha</title>\n",
       "<ellipse fill=\"none\" stroke=\"black\" cx=\"56.57\" cy=\"-187.43\" rx=\"56.64\" ry=\"37.45\"/>\n",
       "<text text-anchor=\"middle\" x=\"56.57\" y=\"-198.73\" font-family=\"Times New Roman,serif\" font-size=\"14.00\">alpha</text>\n",
       "<text text-anchor=\"middle\" x=\"56.57\" y=\"-183.73\" font-family=\"Times New Roman,serif\" font-size=\"14.00\">~</text>\n",
       "<text text-anchor=\"middle\" x=\"56.57\" y=\"-168.73\" font-family=\"Times New Roman,serif\" font-size=\"14.00\">LogNormal</text>\n",
       "</g>\n",
       "<!-- H1 -->\n",
       "<g id=\"node5\" class=\"node\">\n",
       "<title>H1</title>\n",
       "<ellipse fill=\"lightgrey\" stroke=\"black\" cx=\"282.57\" cy=\"-76.48\" rx=\"41.94\" ry=\"37.45\"/>\n",
       "<text text-anchor=\"middle\" x=\"282.57\" y=\"-87.78\" font-family=\"Times New Roman,serif\" font-size=\"14.00\">H1</text>\n",
       "<text text-anchor=\"middle\" x=\"282.57\" y=\"-72.78\" font-family=\"Times New Roman,serif\" font-size=\"14.00\">~</text>\n",
       "<text text-anchor=\"middle\" x=\"282.57\" y=\"-57.78\" font-family=\"Times New Roman,serif\" font-size=\"14.00\">Normal</text>\n",
       "</g>\n",
       "<!-- alpha&#45;&gt;H1 -->\n",
       "<g id=\"edge2\" class=\"edge\">\n",
       "<title>alpha&#45;&gt;H1</title>\n",
       "<path fill=\"none\" stroke=\"black\" d=\"M97.91,-161.66C105.06,-157.62 112.48,-153.57 119.57,-149.95 157.86,-130.42 202.55,-110.77 235.44,-96.86\"/>\n",
       "<polygon fill=\"black\" stroke=\"black\" points=\"236.95,-100.02 244.81,-92.92 234.24,-93.57 236.95,-100.02\"/>\n",
       "</g>\n",
       "<!-- beta_T -->\n",
       "<g id=\"node2\" class=\"node\">\n",
       "<title>beta_T</title>\n",
       "<ellipse fill=\"none\" stroke=\"black\" cx=\"385.57\" cy=\"-187.43\" rx=\"41.94\" ry=\"37.45\"/>\n",
       "<text text-anchor=\"middle\" x=\"385.57\" y=\"-198.73\" font-family=\"Times New Roman,serif\" font-size=\"14.00\">beta_T</text>\n",
       "<text text-anchor=\"middle\" x=\"385.57\" y=\"-183.73\" font-family=\"Times New Roman,serif\" font-size=\"14.00\">~</text>\n",
       "<text text-anchor=\"middle\" x=\"385.57\" y=\"-168.73\" font-family=\"Times New Roman,serif\" font-size=\"14.00\">Normal</text>\n",
       "</g>\n",
       "<!-- beta_T&#45;&gt;H1 -->\n",
       "<g id=\"edge3\" class=\"edge\">\n",
       "<title>beta_T&#45;&gt;H1</title>\n",
       "<path fill=\"none\" stroke=\"black\" d=\"M359.04,-158.37C346.05,-144.63 330.26,-127.92 316.4,-113.27\"/>\n",
       "<polygon fill=\"black\" stroke=\"black\" points=\"318.77,-110.68 309.36,-105.82 313.69,-115.49 318.77,-110.68\"/>\n",
       "</g>\n",
       "<!-- sigma -->\n",
       "<g id=\"node3\" class=\"node\">\n",
       "<title>sigma</title>\n",
       "<ellipse fill=\"none\" stroke=\"black\" cx=\"503.57\" cy=\"-187.43\" rx=\"57.97\" ry=\"37.45\"/>\n",
       "<text text-anchor=\"middle\" x=\"503.57\" y=\"-198.73\" font-family=\"Times New Roman,serif\" font-size=\"14.00\">sigma</text>\n",
       "<text text-anchor=\"middle\" x=\"503.57\" y=\"-183.73\" font-family=\"Times New Roman,serif\" font-size=\"14.00\">~</text>\n",
       "<text text-anchor=\"middle\" x=\"503.57\" y=\"-168.73\" font-family=\"Times New Roman,serif\" font-size=\"14.00\">Exponential</text>\n",
       "</g>\n",
       "<!-- sigma&#45;&gt;H1 -->\n",
       "<g id=\"edge4\" class=\"edge\">\n",
       "<title>sigma&#45;&gt;H1</title>\n",
       "<path fill=\"none\" stroke=\"black\" d=\"M460.16,-162.31C452.35,-158.11 444.25,-153.85 436.57,-149.95 400.74,-131.79 359.54,-112.48 328.77,-98.36\"/>\n",
       "<polygon fill=\"black\" stroke=\"black\" points=\"330.13,-95.13 319.58,-94.16 327.22,-101.5 330.13,-95.13\"/>\n",
       "</g>\n",
       "<!-- T -->\n",
       "<g id=\"node4\" class=\"node\">\n",
       "<title>T</title>\n",
       "<path fill=\"lightgrey\" stroke=\"black\" d=\"M313.57,-213.93C313.57,-213.93 249.57,-213.93 249.57,-213.93 243.57,-213.93 237.57,-207.93 237.57,-201.93 237.57,-201.93 237.57,-172.93 237.57,-172.93 237.57,-166.93 243.57,-160.93 249.57,-160.93 249.57,-160.93 313.57,-160.93 313.57,-160.93 319.57,-160.93 325.57,-166.93 325.57,-172.93 325.57,-172.93 325.57,-201.93 325.57,-201.93 325.57,-207.93 319.57,-213.93 313.57,-213.93\"/>\n",
       "<text text-anchor=\"middle\" x=\"281.57\" y=\"-198.73\" font-family=\"Times New Roman,serif\" font-size=\"14.00\">T</text>\n",
       "<text text-anchor=\"middle\" x=\"281.57\" y=\"-183.73\" font-family=\"Times New Roman,serif\" font-size=\"14.00\">~</text>\n",
       "<text text-anchor=\"middle\" x=\"281.57\" y=\"-168.73\" font-family=\"Times New Roman,serif\" font-size=\"14.00\">MutableData</text>\n",
       "</g>\n",
       "<!-- T&#45;&gt;H1 -->\n",
       "<g id=\"edge1\" class=\"edge\">\n",
       "<title>T&#45;&gt;H1</title>\n",
       "<path fill=\"none\" stroke=\"black\" d=\"M281.8,-160.89C281.9,-149.98 282.02,-136.89 282.14,-124.35\"/>\n",
       "<polygon fill=\"black\" stroke=\"black\" points=\"285.64,-124.03 282.23,-114 278.64,-123.97 285.64,-124.03\"/>\n",
       "</g>\n",
       "<!-- F -->\n",
       "<g id=\"node6\" class=\"node\">\n",
       "<title>F</title>\n",
       "<path fill=\"lightgrey\" stroke=\"black\" d=\"M207.57,-213.93C207.57,-213.93 143.57,-213.93 143.57,-213.93 137.57,-213.93 131.57,-207.93 131.57,-201.93 131.57,-201.93 131.57,-172.93 131.57,-172.93 131.57,-166.93 137.57,-160.93 143.57,-160.93 143.57,-160.93 207.57,-160.93 207.57,-160.93 213.57,-160.93 219.57,-166.93 219.57,-172.93 219.57,-172.93 219.57,-201.93 219.57,-201.93 219.57,-207.93 213.57,-213.93 207.57,-213.93\"/>\n",
       "<text text-anchor=\"middle\" x=\"175.57\" y=\"-198.73\" font-family=\"Times New Roman,serif\" font-size=\"14.00\">F</text>\n",
       "<text text-anchor=\"middle\" x=\"175.57\" y=\"-183.73\" font-family=\"Times New Roman,serif\" font-size=\"14.00\">~</text>\n",
       "<text text-anchor=\"middle\" x=\"175.57\" y=\"-168.73\" font-family=\"Times New Roman,serif\" font-size=\"14.00\">MutableData</text>\n",
       "</g>\n",
       "</g>\n",
       "</svg>\n"
      ],
      "text/plain": [
       "<graphviz.graphs.Digraph at 0x1e7472ab2b0>"
      ]
     },
     "execution_count": 17,
     "metadata": {},
     "output_type": "execute_result"
    }
   ],
   "source": [
    "with pm.Model() as unbiased_model:\n",
    "    # Priors\n",
    "    sigma = pm.Exponential(\"sigma\", 1.)\n",
    "    alpha = pm.LogNormal(\"alpha\", .2)\n",
    "    beta_T = pm.Normal(\"beta_T\", 0, .5)\n",
    "\n",
    "    H0 = plants.H0.values\n",
    "    H1 = plants.H1.values\n",
    "    \n",
    "    T = pm.MutableData(\"T\", treatment.astype(float))\n",
    "    F = pm.MutableData(\"F\", fungus.astype(float))\n",
    "    \n",
    "    # proportional amount of growth\n",
    "    g = alpha + beta_T * T\n",
    "    mu = g * H0\n",
    "    \n",
    "    # Likelihood\n",
    "    pm.Normal(\"H1\", mu, sigma, observed=H1)\n",
    "    \n",
    "    unbiased_inference = pm.sample(target_accept=.95)\n",
    "    pm.compute_log_likelihood(unbiased_inference)\n",
    "    \n",
    "pm.model_to_graphviz(unbiased_model)"
   ]
  },
  {
   "cell_type": "code",
   "execution_count": 18,
   "metadata": {},
   "outputs": [
    {
     "name": "stderr",
     "output_type": "stream",
     "text": [
      "c:\\Users\\Kuba\\miniconda3\\envs\\statistical-rethinking-2023\\lib\\site-packages\\arviz\\stats\\stats.py:307: FutureWarning: Setting an item of incompatible dtype is deprecated and will raise in a future error of pandas. Value 'False' has dtype incompatible with float64, please explicitly cast to a compatible dtype first.\n",
      "  df_comp.loc[val] = (\n",
      "c:\\Users\\Kuba\\miniconda3\\envs\\statistical-rethinking-2023\\lib\\site-packages\\arviz\\stats\\stats.py:307: FutureWarning: Setting an item of incompatible dtype is deprecated and will raise in a future error of pandas. Value 'deviance' has dtype incompatible with float64, please explicitly cast to a compatible dtype first.\n",
      "  df_comp.loc[val] = (\n"
     ]
    },
    {
     "data": {
      "text/html": [
       "<div>\n",
       "<style scoped>\n",
       "    .dataframe tbody tr th:only-of-type {\n",
       "        vertical-align: middle;\n",
       "    }\n",
       "\n",
       "    .dataframe tbody tr th {\n",
       "        vertical-align: top;\n",
       "    }\n",
       "\n",
       "    .dataframe thead th {\n",
       "        text-align: right;\n",
       "    }\n",
       "</style>\n",
       "<table border=\"1\" class=\"dataframe\">\n",
       "  <thead>\n",
       "    <tr style=\"text-align: right;\">\n",
       "      <th></th>\n",
       "      <th>rank</th>\n",
       "      <th>elpd_loo</th>\n",
       "      <th>p_loo</th>\n",
       "      <th>elpd_diff</th>\n",
       "      <th>weight</th>\n",
       "      <th>se</th>\n",
       "      <th>dse</th>\n",
       "      <th>warning</th>\n",
       "      <th>scale</th>\n",
       "    </tr>\n",
       "  </thead>\n",
       "  <tbody>\n",
       "    <tr>\n",
       "      <th>H1 ~ H0 + T + F</th>\n",
       "      <td>0</td>\n",
       "      <td>343.303968</td>\n",
       "      <td>4.046610</td>\n",
       "      <td>0.000000</td>\n",
       "      <td>1.0</td>\n",
       "      <td>15.320792</td>\n",
       "      <td>0.000000</td>\n",
       "      <td>False</td>\n",
       "      <td>deviance</td>\n",
       "    </tr>\n",
       "    <tr>\n",
       "      <th>H1 ~ H0 + T</th>\n",
       "      <td>1</td>\n",
       "      <td>425.353994</td>\n",
       "      <td>3.559686</td>\n",
       "      <td>82.050026</td>\n",
       "      <td>0.0</td>\n",
       "      <td>17.643679</td>\n",
       "      <td>16.953692</td>\n",
       "      <td>False</td>\n",
       "      <td>deviance</td>\n",
       "    </tr>\n",
       "  </tbody>\n",
       "</table>\n",
       "</div>"
      ],
      "text/plain": [
       "                 rank    elpd_loo     p_loo  elpd_diff  weight         se  \\\n",
       "H1 ~ H0 + T + F     0  343.303968  4.046610   0.000000     1.0  15.320792   \n",
       "H1 ~ H0 + T         1  425.353994  3.559686  82.050026     0.0  17.643679   \n",
       "\n",
       "                       dse  warning     scale  \n",
       "H1 ~ H0 + T + F   0.000000    False  deviance  \n",
       "H1 ~ H0 + T      16.953692    False  deviance  "
      ]
     },
     "execution_count": 18,
     "metadata": {},
     "output_type": "execute_result"
    }
   ],
   "source": [
    "comparison = az.compare(\n",
    "    {\n",
    "        \"H1 ~ H0 + T + F\": biased_inference,\n",
    "        \"H1 ~ H0 + T\": unbiased_inference\n",
    "    }, \n",
    "    scale='deviance'\n",
    ")\n",
    "comparison"
   ]
  },
  {
   "cell_type": "code",
   "execution_count": 19,
   "metadata": {},
   "outputs": [
    {
     "name": "stderr",
     "output_type": "stream",
     "text": [
      "c:\\Users\\Kuba\\miniconda3\\envs\\statistical-rethinking-2023\\lib\\site-packages\\arviz\\plots\\backends\\matplotlib\\compareplot.py:87: FutureWarning: Series.__getitem__ treating keys as positions is deprecated. In a future version, integer keys will always be treated as labels (consistent with DataFrame behavior). To access a value by position, use `ser.iloc[pos]`\n",
      "  scale = comp_df[\"scale\"][0]\n"
     ]
    },
    {
     "data": {
      "image/png": "[encoded data removed]",
      "text/plain": [
       "<Figure size 600x200 with 1 Axes>"
      ]
     },
     "metadata": {},
     "output_type": "display_data"
    }
   ],
   "source": [
    "az.plot_compare(comparison, insample_dev=False);"
   ]
  },
  {
   "cell_type": "code",
   "execution_count": 20,
   "metadata": {},
   "outputs": [
    {
     "data": {
      "text/plain": [
       "<Axes: ylabel='Count'>"
      ]
     },
     "execution_count": 20,
     "metadata": {},
     "output_type": "execute_result"
    },
    {
     "data": {
      "image/png": "[encoded data removed]",
      "text/plain": [
       "<Figure size 640x480 with 1 Axes>"
      ]
     },
     "metadata": {},
     "output_type": "display_data"
    }
   ],
   "source": [
    "sns.histplot(x=unbiased_inference[\"posterior\"]['beta_T'].values.reshape(-1))"
   ]
  },
  {
   "cell_type": "markdown",
   "metadata": {},
   "source": [
    "#### DIVORCE EXAMPLE \n",
    "Outliers and how to identify them in a quantifiable way"
   ]
  },
  {
   "cell_type": "code",
   "execution_count": 21,
   "metadata": {},
   "outputs": [
    {
     "data": {
      "image/png": "[encoded data removed]",
      "text/plain": [
       "<Figure size 640x480 with 1 Axes>"
      ]
     },
     "metadata": {},
     "output_type": "display_data"
    }
   ],
   "source": [
    "divorce = utils.load_data(\"WaffleDivorce\")[[\"Location\", \"Divorce\", \"MedianAgeMarriage\"]]\n",
    "\n",
    "inliers_idx = divorce.query(\"Location not in ('Idaho', 'Maine')\").index.tolist()\n",
    "outliers_idx = divorce.query(\"Location in ('Idaho', 'Maine')\").index.tolist()\n",
    "\n",
    "\n",
    "std_age = utils.standardize(divorce.MedianAgeMarriage)\n",
    "std_divorce = utils.standardize(divorce.Divorce)\n",
    "\n",
    "utils.plot_scatter(std_age[inliers_idx], std_divorce[inliers_idx], color='k', label=None)\n",
    "utils.plot_scatter(std_age[outliers_idx], std_divorce[outliers_idx], color='C0', label=None)\n",
    "\n",
    "for oi in outliers_idx:\n",
    "    plt.annotate(divorce.loc[oi, \"Location\"], (std_age[oi] + .1, std_divorce[oi]), fontsize=14)\n",
    "\n",
    "plt.xlabel(\"Age at mariage (standardized)\")\n",
    "plt.ylabel(\"Divorce rate (standardized)\")\n",
    "plt.axis('square');"
   ]
  },
  {
   "cell_type": "code",
   "execution_count": 24,
   "metadata": {},
   "outputs": [
    {
     "data": {
      "text/plain": [
       "0     1.671000\n",
       "1     1.560044\n",
       "2     0.616916\n",
       "3     2.114824\n",
       "4    -0.936470\n",
       "5     1.060741\n",
       "6    -1.657685\n",
       "7    -0.437167\n",
       "8    -1.879597\n",
       "9    -0.659080\n",
       "10    1.005263\n",
       "11   -0.770036\n",
       "12   -1.102904\n",
       "13   -0.936470\n",
       "14    0.727872\n",
       "15    0.284048\n",
       "16    0.505960\n",
       "17    1.615522\n",
       "18    0.727872\n",
       "19    1.837434\n",
       "20   -0.492645\n",
       "21   -1.047426\n",
       "22   -0.270733\n",
       "23   -1.269338\n",
       "24    0.783350\n",
       "25   -0.104299\n",
       "26   -0.326211\n",
       "27   -0.492645\n",
       "28    0.228570\n",
       "29   -1.990553\n",
       "30    0.284048\n",
       "31   -1.713163\n",
       "32    0.117614\n",
       "33   -0.936470\n",
       "34   -0.104299\n",
       "35    1.726478\n",
       "36    0.395004\n",
       "37   -1.102904\n",
       "38   -0.159777\n",
       "39   -0.880992\n",
       "40    0.672394\n",
       "41    0.949785\n",
       "42    0.173092\n",
       "43    0.284048\n",
       "44   -0.048821\n",
       "45   -0.437167\n",
       "46    0.173092\n",
       "47    0.672394\n",
       "48   -0.770036\n",
       "49    0.339526\n",
       "Name: Divorce, dtype: float64"
      ]
     },
     "execution_count": 24,
     "metadata": {},
     "output_type": "execute_result"
    }
   ],
   "source": [
    "std_divorce"
   ]
  },
  {
   "cell_type": "code",
   "execution_count": 22,
   "metadata": {},
   "outputs": [
    {
     "name": "stderr",
     "output_type": "stream",
     "text": [
      "Auto-assigning NUTS sampler...\n",
      "Initializing NUTS using jitter+adapt_diag...\n",
      "Multiprocess sampling (2 chains in 2 jobs)\n",
      "NUTS: [sigma, alpha, beta_A]\n"
     ]
    },
    {
     "data": {
      "text/html": [
       "\n",
       "<style>\n",
       "    /* Turns off some styling */\n",
       "    progress {\n",
       "        /* gets rid of default border in Firefox and Opera. */\n",
       "        border: none;\n",
       "        /* Needs to be in here for Safari polyfill so background images work as expected. */\n",
       "        background-size: auto;\n",
       "    }\n",
       "    progress:not([value]), progress:not([value])::-webkit-progress-bar {\n",
       "        background: repeating-linear-gradient(45deg, #7e7e7e, #7e7e7e 10px, #5c5c5c 10px, #5c5c5c 20px);\n",
       "    }\n",
       "    .progress-bar-interrupted, .progress-bar-interrupted::-webkit-progress-bar {\n",
       "        background: #F44336;\n",
       "    }\n",
       "</style>\n"
      ],
      "text/plain": [
       "<IPython.core.display.HTML object>"
      ]
     },
     "metadata": {},
     "output_type": "display_data"
    },
    {
     "data": {
      "text/html": [
       "\n",
       "    <div>\n",
       "      <progress value='4000' class='' max='4000' style='width:300px; height:20px; vertical-align: middle;'></progress>\n",
       "      100.00% [4000/4000 00:02&lt;00:00 Sampling 2 chains, 0 divergences]\n",
       "    </div>\n",
       "    "
      ],
      "text/plain": [
       "<IPython.core.display.HTML object>"
      ]
     },
     "metadata": {},
     "output_type": "display_data"
    },
    {
     "name": "stderr",
     "output_type": "stream",
     "text": [
      "Sampling 2 chains for 1_000 tune and 1_000 draw iterations (2_000 + 2_000 draws total) took 15 seconds.\n",
      "We recommend running at least 4 chains for robust computation of convergence diagnostics\n"
     ]
    },
    {
     "data": {
      "text/html": [
       "\n",
       "<style>\n",
       "    /* Turns off some styling */\n",
       "    progress {\n",
       "        /* gets rid of default border in Firefox and Opera. */\n",
       "        border: none;\n",
       "        /* Needs to be in here for Safari polyfill so background images work as expected. */\n",
       "        background-size: auto;\n",
       "    }\n",
       "    progress:not([value]), progress:not([value])::-webkit-progress-bar {\n",
       "        background: repeating-linear-gradient(45deg, #7e7e7e, #7e7e7e 10px, #5c5c5c 10px, #5c5c5c 20px);\n",
       "    }\n",
       "    .progress-bar-interrupted, .progress-bar-interrupted::-webkit-progress-bar {\n",
       "        background: #F44336;\n",
       "    }\n",
       "</style>\n"
      ],
      "text/plain": [
       "<IPython.core.display.HTML object>"
      ]
     },
     "metadata": {},
     "output_type": "display_data"
    },
    {
     "data": {
      "text/html": [
       "\n",
       "    <div>\n",
       "      <progress value='2000' class='' max='2000' style='width:300px; height:20px; vertical-align: middle;'></progress>\n",
       "      100.00% [2000/2000 00:00&lt;00:00]\n",
       "    </div>\n",
       "    "
      ],
      "text/plain": [
       "<IPython.core.display.HTML object>"
      ]
     },
     "metadata": {},
     "output_type": "display_data"
    }
   ],
   "source": [
    "with pm.Model() as lstsq_model:\n",
    "    # Priors\n",
    "    sigma = pm.Exponential(\"sigma\", 1)\n",
    "    alpha = pm.Normal(\"alpha\", 0, .5)\n",
    "    beta_A = pm.Normal(\"beta_A\", 0, .5)\n",
    "    \n",
    "    # Likelihood\n",
    "    mu = alpha + beta_A * std_age.values\n",
    "    pm.Normal(\"divorce\", mu, sigma, observed=std_divorce.values)\n",
    "    lstsq_inference = pm.sample()\n",
    "    \n",
    "    # required for LOOCV score\n",
    "    pm.compute_log_likelihood(lstsq_inference)"
   ]
  },
  {
   "cell_type": "code",
   "execution_count": 25,
   "metadata": {},
   "outputs": [
    {
     "name": "stderr",
     "output_type": "stream",
     "text": [
      "c:\\Users\\Kuba\\miniconda3\\envs\\statistical-rethinking-2023\\lib\\site-packages\\arviz\\stats\\stats.py:803: UserWarning: Estimated shape parameter of Pareto distribution is greater than 0.7 for one or more samples. You should consider using a more robust model, this is because importance sampling is less likely to work well if the marginal posterior and LOO posterior are very different. This is more likely to happen with a non-robust model and highly influential observations.\n",
      "  warnings.warn(\n",
      "c:\\Users\\Kuba\\miniconda3\\envs\\statistical-rethinking-2023\\lib\\site-packages\\arviz\\stats\\stats.py:1645: UserWarning: For one or more samples the posterior variance of the log predictive densities exceeds 0.4. This could be indication of WAIC starting to fail. \n",
      "See http://arxiv.org/abs/1507.04544 for details\n",
      "  warnings.warn(\n"
     ]
    },
    {
     "data": {
      "image/png": "[encoded data removed]",
      "text/plain": [
       "<Figure size 600x300 with 1 Axes>"
      ]
     },
     "metadata": {},
     "output_type": "display_data"
    }
   ],
   "source": [
    "# Calculate Pointwise LOOCV scores\n",
    "def plot_loocv(inference, title=None):\n",
    "    plt.subplots(figsize=(6,3))\n",
    "    pareto_k = az.loo(inference, pointwise=True).pareto_k\n",
    "    waic = -az.waic(inference, pointwise=True).waic_i\n",
    "\n",
    "    utils.plot_scatter(pareto_k, waic,  color='C0', label=None)\n",
    "    for oi in outliers_idx:\n",
    "        plt.annotate(divorce.loc[oi, \"Location\"], (pareto_k[oi] + .01, waic[oi]), fontsize=14)\n",
    "    plt.xlabel(\"PSIS Pareto K\")\n",
    "    plt.ylabel(\"WAIC\");\n",
    "    plt.title(title)\n",
    "\n",
    "plot_loocv(lstsq_inference, title=\"Gaussian Likelihood Posterior\\nAffected by Outliers\")"
   ]
  }
 ],
 "metadata": {
  "kernelspec": {
   "display_name": "statistical-rethinking-2023",
   "language": "python",
   "name": "python3"
  },
  "language_info": {
   "codemirror_mode": {
    "name": "ipython",
    "version": 3
   },
   "file_extension": ".py",
   "mimetype": "text/x-python",
   "name": "python",
   "nbconvert_exporter": "python",
   "pygments_lexer": "ipython3",
   "version": "3.10.12"
  }
 },
 "nbformat": 4,
 "nbformat_minor": 2
}
