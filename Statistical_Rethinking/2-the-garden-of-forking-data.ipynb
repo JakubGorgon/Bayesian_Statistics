{
 "cells": [
  {
   "cell_type": "code",
   "execution_count": 17,
   "metadata": {
    "vscode": {
     "languageId": "r"
    }
   },
   "outputs": [],
   "source": [
    "sample = c(\"W\", \"L\", \"W\", \"W\", \"W\", \"L\",\n",
    "            \"W\", \"L\", \"W\")\n",
    "W = sum(sample==\"W\")\n",
    "L = sum(sample==\"L\")"
   ]
  },
  {
   "cell_type": "code",
   "execution_count": 18,
   "metadata": {
    "vscode": {
     "languageId": "r"
    }
   },
   "outputs": [],
   "source": [
    "p = c(0, 0.25, 0.5, 0.75, 1)\n",
    "ways = sapply(p, function(q) (q*4)^W*(4-4*q)^L)"
   ]
  },
  {
   "cell_type": "code",
   "execution_count": 19,
   "metadata": {
    "vscode": {
     "languageId": "r"
    }
   },
   "outputs": [
    {
     "data": {
      "text/html": [
       "<style>\n",
       ".list-inline {list-style: none; margin:0; padding: 0}\n",
       ".list-inline>li {display: inline-block}\n",
       ".list-inline>li:not(:last-child)::after {content: \"\\00b7\"; padding: 0 .5ex}\n",
       "</style>\n",
       "<ol class=list-inline><li>0</li><li>27</li><li>512</li><li>729</li><li>0</li></ol>\n"
      ],
      "text/latex": [
       "\\begin{enumerate*}\n",
       "\\item 0\n",
       "\\item 27\n",
       "\\item 512\n",
       "\\item 729\n",
       "\\item 0\n",
       "\\end{enumerate*}\n"
      ],
      "text/markdown": [
       "1. 0\n",
       "2. 27\n",
       "3. 512\n",
       "4. 729\n",
       "5. 0\n",
       "\n",
       "\n"
      ],
      "text/plain": [
       "[1]   0  27 512 729   0"
      ]
     },
     "metadata": {},
     "output_type": "display_data"
    }
   ],
   "source": [
    "ways"
   ]
  },
  {
   "cell_type": "code",
   "execution_count": 20,
   "metadata": {
    "vscode": {
     "languageId": "r"
    }
   },
   "outputs": [
    {
     "data": {
      "text/html": [
       "<style>\n",
       ".list-inline {list-style: none; margin:0; padding: 0}\n",
       ".list-inline>li {display: inline-block}\n",
       ".list-inline>li:not(:last-child)::after {content: \"\\00b7\"; padding: 0 .5ex}\n",
       "</style>\n",
       "<ol class=list-inline><li>0</li><li>0.0212933753943218</li><li>0.403785488958991</li><li>0.574921135646688</li><li>0</li></ol>\n"
      ],
      "text/latex": [
       "\\begin{enumerate*}\n",
       "\\item 0\n",
       "\\item 0.0212933753943218\n",
       "\\item 0.403785488958991\n",
       "\\item 0.574921135646688\n",
       "\\item 0\n",
       "\\end{enumerate*}\n"
      ],
      "text/markdown": [
       "1. 0\n",
       "2. 0.0212933753943218\n",
       "3. 0.403785488958991\n",
       "4. 0.574921135646688\n",
       "5. 0\n",
       "\n",
       "\n"
      ],
      "text/plain": [
       "[1] 0.00000000 0.02129338 0.40378549 0.57492114 0.00000000"
      ]
     },
     "metadata": {},
     "output_type": "display_data"
    }
   ],
   "source": [
    "prob = ways/sum(ways);prob"
   ]
  },
  {
   "cell_type": "code",
   "execution_count": 21,
   "metadata": {
    "vscode": {
     "languageId": "r"
    }
   },
   "outputs": [
    {
     "data": {
      "text/html": [
       "<table class=\"dataframe\">\n",
       "<caption>A matrix: 5 × 3 of type dbl</caption>\n",
       "<thead>\n",
       "\t<tr><th scope=col>p</th><th scope=col>ways</th><th scope=col>prob</th></tr>\n",
       "</thead>\n",
       "<tbody>\n",
       "\t<tr><td>0.00</td><td>  0</td><td>0.00000000</td></tr>\n",
       "\t<tr><td>0.25</td><td> 27</td><td>0.02129338</td></tr>\n",
       "\t<tr><td>0.50</td><td>512</td><td>0.40378549</td></tr>\n",
       "\t<tr><td>0.75</td><td>729</td><td>0.57492114</td></tr>\n",
       "\t<tr><td>1.00</td><td>  0</td><td>0.00000000</td></tr>\n",
       "</tbody>\n",
       "</table>\n"
      ],
      "text/latex": [
       "A matrix: 5 × 3 of type dbl\n",
       "\\begin{tabular}{lll}\n",
       " p & ways & prob\\\\\n",
       "\\hline\n",
       "\t 0.00 &   0 & 0.00000000\\\\\n",
       "\t 0.25 &  27 & 0.02129338\\\\\n",
       "\t 0.50 & 512 & 0.40378549\\\\\n",
       "\t 0.75 & 729 & 0.57492114\\\\\n",
       "\t 1.00 &   0 & 0.00000000\\\\\n",
       "\\end{tabular}\n"
      ],
      "text/markdown": [
       "\n",
       "A matrix: 5 × 3 of type dbl\n",
       "\n",
       "| p | ways | prob |\n",
       "|---|---|---|\n",
       "| 0.00 |   0 | 0.00000000 |\n",
       "| 0.25 |  27 | 0.02129338 |\n",
       "| 0.50 | 512 | 0.40378549 |\n",
       "| 0.75 | 729 | 0.57492114 |\n",
       "| 1.00 |   0 | 0.00000000 |\n",
       "\n"
      ],
      "text/plain": [
       "     p    ways prob      \n",
       "[1,] 0.00   0  0.00000000\n",
       "[2,] 0.25  27  0.02129338\n",
       "[3,] 0.50 512  0.40378549\n",
       "[4,] 0.75 729  0.57492114\n",
       "[5,] 1.00   0  0.00000000"
      ]
     },
     "metadata": {},
     "output_type": "display_data"
    }
   ],
   "source": [
    "cbind(p,ways,prob)"
   ]
  },
  {
   "cell_type": "code",
   "execution_count": 22,
   "metadata": {
    "vscode": {
     "languageId": "r"
    }
   },
   "outputs": [],
   "source": [
    "# Function to toss a globe covered p by water\n",
    "# N times\n",
    "simulation_globe_tossing = function(p=0.7, N=9) {\n",
    "    sample(c(\"W\",\"L\"),size = N,prob = c(p, 1-p), replace=TRUE)\n",
    "}"
   ]
  },
  {
   "cell_type": "code",
   "execution_count": 28,
   "metadata": {
    "vscode": {
     "languageId": "r"
    }
   },
   "outputs": [
    {
     "data": {
      "text/html": [
       "<style>\n",
       ".list-inline {list-style: none; margin:0; padding: 0}\n",
       ".list-inline>li {display: inline-block}\n",
       ".list-inline>li:not(:last-child)::after {content: \"\\00b7\"; padding: 0 .5ex}\n",
       "</style>\n",
       "<ol class=list-inline><li>'L'</li><li>'W'</li><li>'L'</li><li>'W'</li><li>'W'</li><li>'L'</li><li>'L'</li><li>'W'</li><li>'W'</li></ol>\n"
      ],
      "text/latex": [
       "\\begin{enumerate*}\n",
       "\\item 'L'\n",
       "\\item 'W'\n",
       "\\item 'L'\n",
       "\\item 'W'\n",
       "\\item 'W'\n",
       "\\item 'L'\n",
       "\\item 'L'\n",
       "\\item 'W'\n",
       "\\item 'W'\n",
       "\\end{enumerate*}\n"
      ],
      "text/markdown": [
       "1. 'L'\n",
       "2. 'W'\n",
       "3. 'L'\n",
       "4. 'W'\n",
       "5. 'W'\n",
       "6. 'L'\n",
       "7. 'L'\n",
       "8. 'W'\n",
       "9. 'W'\n",
       "\n",
       "\n"
      ],
      "text/plain": [
       "[1] \"L\" \"W\" \"L\" \"W\" \"W\" \"L\" \"L\" \"W\" \"W\""
      ]
     },
     "metadata": {},
     "output_type": "display_data"
    }
   ],
   "source": [
    "simulation_globe_tossing()"
   ]
  },
  {
   "cell_type": "code",
   "execution_count": 29,
   "metadata": {
    "vscode": {
     "languageId": "r"
    }
   },
   "outputs": [
    {
     "data": {
      "text/html": [
       "<table class=\"dataframe\">\n",
       "<caption>A matrix: 9 × 10 of type chr</caption>\n",
       "<tbody>\n",
       "\t<tr><td>W</td><td>L</td><td>W</td><td>W</td><td>W</td><td>W</td><td>W</td><td>W</td><td>L</td><td>L</td></tr>\n",
       "\t<tr><td>L</td><td>W</td><td>W</td><td>L</td><td>L</td><td>W</td><td>L</td><td>L</td><td>W</td><td>W</td></tr>\n",
       "\t<tr><td>L</td><td>W</td><td>W</td><td>L</td><td>L</td><td>L</td><td>L</td><td>L</td><td>W</td><td>L</td></tr>\n",
       "\t<tr><td>W</td><td>W</td><td>L</td><td>L</td><td>W</td><td>L</td><td>W</td><td>L</td><td>W</td><td>W</td></tr>\n",
       "\t<tr><td>W</td><td>L</td><td>L</td><td>W</td><td>L</td><td>W</td><td>W</td><td>L</td><td>L</td><td>L</td></tr>\n",
       "\t<tr><td>W</td><td>W</td><td>W</td><td>L</td><td>L</td><td>W</td><td>L</td><td>W</td><td>L</td><td>L</td></tr>\n",
       "\t<tr><td>W</td><td>L</td><td>W</td><td>L</td><td>W</td><td>L</td><td>L</td><td>W</td><td>L</td><td>L</td></tr>\n",
       "\t<tr><td>L</td><td>W</td><td>L</td><td>L</td><td>W</td><td>L</td><td>L</td><td>W</td><td>L</td><td>L</td></tr>\n",
       "\t<tr><td>W</td><td>W</td><td>L</td><td>L</td><td>L</td><td>L</td><td>W</td><td>L</td><td>L</td><td>L</td></tr>\n",
       "</tbody>\n",
       "</table>\n"
      ],
      "text/latex": [
       "A matrix: 9 × 10 of type chr\n",
       "\\begin{tabular}{llllllllll}\n",
       "\t W & L & W & W & W & W & W & W & L & L\\\\\n",
       "\t L & W & W & L & L & W & L & L & W & W\\\\\n",
       "\t L & W & W & L & L & L & L & L & W & L\\\\\n",
       "\t W & W & L & L & W & L & W & L & W & W\\\\\n",
       "\t W & L & L & W & L & W & W & L & L & L\\\\\n",
       "\t W & W & W & L & L & W & L & W & L & L\\\\\n",
       "\t W & L & W & L & W & L & L & W & L & L\\\\\n",
       "\t L & W & L & L & W & L & L & W & L & L\\\\\n",
       "\t W & W & L & L & L & L & W & L & L & L\\\\\n",
       "\\end{tabular}\n"
      ],
      "text/markdown": [
       "\n",
       "A matrix: 9 × 10 of type chr\n",
       "\n",
       "| W | L | W | W | W | W | W | W | L | L |\n",
       "| L | W | W | L | L | W | L | L | W | W |\n",
       "| L | W | W | L | L | L | L | L | W | L |\n",
       "| W | W | L | L | W | L | W | L | W | W |\n",
       "| W | L | L | W | L | W | W | L | L | L |\n",
       "| W | W | W | L | L | W | L | W | L | L |\n",
       "| W | L | W | L | W | L | L | W | L | L |\n",
       "| L | W | L | L | W | L | L | W | L | L |\n",
       "| W | W | L | L | L | L | W | L | L | L |\n",
       "\n"
      ],
      "text/plain": [
       "      [,1] [,2] [,3] [,4] [,5] [,6] [,7] [,8] [,9] [,10]\n",
       " [1,] W    L    W    W    W    W    W    W    L    L    \n",
       " [2,] L    W    W    L    L    W    L    L    W    W    \n",
       " [3,] L    W    W    L    L    L    L    L    W    L    \n",
       " [4,] W    W    L    L    W    L    W    L    W    W    \n",
       " [5,] W    L    L    W    L    W    W    L    L    L    \n",
       " [6,] W    W    W    L    L    W    L    W    L    L    \n",
       " [7,] W    L    W    L    W    L    L    W    L    L    \n",
       " [8,] L    W    L    L    W    L    L    W    L    L    \n",
       " [9,] W    W    L    L    L    L    W    L    L    L    "
      ]
     },
     "metadata": {},
     "output_type": "display_data"
    }
   ],
   "source": [
    "replicate(simulation_globe_tossing(p=0.5, N=9), n=10)"
   ]
  },
  {
   "cell_type": "code",
   "execution_count": 34,
   "metadata": {
    "vscode": {
     "languageId": "r"
    }
   },
   "outputs": [
    {
     "data": {
      "text/html": [
       "0.5012"
      ],
      "text/latex": [
       "0.5012"
      ],
      "text/markdown": [
       "0.5012"
      ],
      "text/plain": [
       "[1] 0.5012"
      ]
     },
     "metadata": {},
     "output_type": "display_data"
    }
   ],
   "source": [
    "# We can test the simulation on extreme settings\n",
    "# To find any problems or bugs \n",
    "# For a large number of simulations and \n",
    "# proportion set to 0.5 we should get a value close to\n",
    "# 0.5 for water in the set of simulations\n",
    "lots_of_simulations = simulation_globe_tossing(p=0.5, N=1e4)\n",
    "sum(lots_of_simulations == \"W\")/length(lots_of_simulations)"
   ]
  },
  {
   "cell_type": "code",
   "execution_count": 38,
   "metadata": {
    "vscode": {
     "languageId": "r"
    }
   },
   "outputs": [],
   "source": [
    "# Now we can code the estimator\\\n",
    "\n",
    "# Function to compute the posterior distribution\n",
    "compute_posterior = function(the_sample, \n",
    "                            possibilities = c(0, 0.25, 0.5, 0.75, 1)) {\n",
    "    W = sum(the_sample==\"W\")\n",
    "    L = sum(the_sample==\"L\")\n",
    "    ways = sapply(p, function(q) (q*4)^W*(4-4*q)^L)\n",
    "    post = ways/sum(ways)\n",
    "    # bars = sapply(post, function(q) make_bar(q))\n",
    "    data.frame(possibilities, ways, post=round(post,3))\n",
    "                                }"
   ]
  },
  {
   "cell_type": "code",
   "execution_count": 50,
   "metadata": {
    "vscode": {
     "languageId": "r"
    }
   },
   "outputs": [
    {
     "data": {
      "text/html": [
       "<table class=\"dataframe\">\n",
       "<caption>A data.frame: 5 × 3</caption>\n",
       "<thead>\n",
       "\t<tr><th scope=col>possibilities</th><th scope=col>ways</th><th scope=col>post</th></tr>\n",
       "\t<tr><th scope=col>&lt;dbl&gt;</th><th scope=col>&lt;dbl&gt;</th><th scope=col>&lt;dbl&gt;</th></tr>\n",
       "</thead>\n",
       "<tbody>\n",
       "\t<tr><td>0.00</td><td>0.000000e+00</td><td>0</td></tr>\n",
       "\t<tr><td>0.25</td><td>6.461082e+24</td><td>0</td></tr>\n",
       "\t<tr><td>0.50</td><td>1.606938e+60</td><td>0</td></tr>\n",
       "\t<tr><td>0.75</td><td>4.110983e+70</td><td>1</td></tr>\n",
       "\t<tr><td>1.00</td><td>0.000000e+00</td><td>0</td></tr>\n",
       "</tbody>\n",
       "</table>\n"
      ],
      "text/latex": [
       "A data.frame: 5 × 3\n",
       "\\begin{tabular}{lll}\n",
       " possibilities & ways & post\\\\\n",
       " <dbl> & <dbl> & <dbl>\\\\\n",
       "\\hline\n",
       "\t 0.00 & 0.000000e+00 & 0\\\\\n",
       "\t 0.25 & 6.461082e+24 & 0\\\\\n",
       "\t 0.50 & 1.606938e+60 & 0\\\\\n",
       "\t 0.75 & 4.110983e+70 & 1\\\\\n",
       "\t 1.00 & 0.000000e+00 & 0\\\\\n",
       "\\end{tabular}\n"
      ],
      "text/markdown": [
       "\n",
       "A data.frame: 5 × 3\n",
       "\n",
       "| possibilities &lt;dbl&gt; | ways &lt;dbl&gt; | post &lt;dbl&gt; |\n",
       "|---|---|---|\n",
       "| 0.00 | 0.000000e+00 | 0 |\n",
       "| 0.25 | 6.461082e+24 | 0 |\n",
       "| 0.50 | 1.606938e+60 | 0 |\n",
       "| 0.75 | 4.110983e+70 | 1 |\n",
       "| 1.00 | 0.000000e+00 | 0 |\n",
       "\n"
      ],
      "text/plain": [
       "  possibilities ways         post\n",
       "1 0.00          0.000000e+00 0   \n",
       "2 0.25          6.461082e+24 0   \n",
       "3 0.50          1.606938e+60 0   \n",
       "4 0.75          4.110983e+70 1   \n",
       "5 1.00          0.000000e+00 0   "
      ]
     },
     "metadata": {},
     "output_type": "display_data"
    }
   ],
   "source": [
    "compute_posterior(simulation_globe_tossing(p=0.7, N=200))"
   ]
  },
  {
   "cell_type": "code",
   "execution_count": null,
   "metadata": {
    "vscode": {
     "languageId": "r"
    }
   },
   "outputs": [],
   "source": []
  }
 ],
 "metadata": {
  "kernelspec": {
   "display_name": "R",
   "language": "R",
   "name": "ir"
  },
  "language_info": {
   "codemirror_mode": "r",
   "file_extension": ".r",
   "mimetype": "text/x-r-source",
   "name": "R",
   "pygments_lexer": "r",
   "version": "4.3.2"
  }
 },
 "nbformat": 4,
 "nbformat_minor": 2
}
