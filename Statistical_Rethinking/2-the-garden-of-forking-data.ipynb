{
 "cells": [
  {
   "cell_type": "code",
   "execution_count": 82,
   "metadata": {
    "vscode": {
     "languageId": "r"
    }
   },
   "outputs": [],
   "source": [
    "sample = c(\"W\", \"L\", \"W\", \"W\", \"W\", \"L\",\n",
    "            \"W\", \"L\", \"W\")\n",
    "W = sum(sample==\"W\")\n",
    "L = sum(sample==\"L\")"
   ]
  },
  {
   "cell_type": "code",
   "execution_count": 83,
   "metadata": {
    "vscode": {
     "languageId": "r"
    }
   },
   "outputs": [],
   "source": [
    "p = c(0, 0.25, 0.5, 0.75, 1)\n",
    "ways = sapply(p, function(q) (q*4)^W*(4-4*q)^L)"
   ]
  },
  {
   "cell_type": "code",
   "execution_count": 84,
   "metadata": {
    "vscode": {
     "languageId": "r"
    }
   },
   "outputs": [
    {
     "data": {
      "text/html": [
       "<style>\n",
       ".list-inline {list-style: none; margin:0; padding: 0}\n",
       ".list-inline>li {display: inline-block}\n",
       ".list-inline>li:not(:last-child)::after {content: \"\\00b7\"; padding: 0 .5ex}\n",
       "</style>\n",
       "<ol class=list-inline><li>0</li><li>27</li><li>512</li><li>729</li><li>0</li></ol>\n"
      ],
      "text/latex": [
       "\\begin{enumerate*}\n",
       "\\item 0\n",
       "\\item 27\n",
       "\\item 512\n",
       "\\item 729\n",
       "\\item 0\n",
       "\\end{enumerate*}\n"
      ],
      "text/markdown": [
       "1. 0\n",
       "2. 27\n",
       "3. 512\n",
       "4. 729\n",
       "5. 0\n",
       "\n",
       "\n"
      ],
      "text/plain": [
       "[1]   0  27 512 729   0"
      ]
     },
     "metadata": {},
     "output_type": "display_data"
    }
   ],
   "source": [
    "ways"
   ]
  },
  {
   "cell_type": "code",
   "execution_count": 85,
   "metadata": {
    "vscode": {
     "languageId": "r"
    }
   },
   "outputs": [
    {
     "data": {
      "text/html": [
       "<style>\n",
       ".list-inline {list-style: none; margin:0; padding: 0}\n",
       ".list-inline>li {display: inline-block}\n",
       ".list-inline>li:not(:last-child)::after {content: \"\\00b7\"; padding: 0 .5ex}\n",
       "</style>\n",
       "<ol class=list-inline><li>0</li><li>0.0212933753943218</li><li>0.403785488958991</li><li>0.574921135646688</li><li>0</li></ol>\n"
      ],
      "text/latex": [
       "\\begin{enumerate*}\n",
       "\\item 0\n",
       "\\item 0.0212933753943218\n",
       "\\item 0.403785488958991\n",
       "\\item 0.574921135646688\n",
       "\\item 0\n",
       "\\end{enumerate*}\n"
      ],
      "text/markdown": [
       "1. 0\n",
       "2. 0.0212933753943218\n",
       "3. 0.403785488958991\n",
       "4. 0.574921135646688\n",
       "5. 0\n",
       "\n",
       "\n"
      ],
      "text/plain": [
       "[1] 0.00000000 0.02129338 0.40378549 0.57492114 0.00000000"
      ]
     },
     "metadata": {},
     "output_type": "display_data"
    }
   ],
   "source": [
    "prob = ways/sum(ways);prob"
   ]
  },
  {
   "cell_type": "code",
   "execution_count": 86,
   "metadata": {
    "vscode": {
     "languageId": "r"
    }
   },
   "outputs": [
    {
     "data": {
      "text/html": [
       "<table class=\"dataframe\">\n",
       "<caption>A matrix: 5 × 3 of type dbl</caption>\n",
       "<thead>\n",
       "\t<tr><th scope=col>p</th><th scope=col>ways</th><th scope=col>prob</th></tr>\n",
       "</thead>\n",
       "<tbody>\n",
       "\t<tr><td>0.00</td><td>  0</td><td>0.00000000</td></tr>\n",
       "\t<tr><td>0.25</td><td> 27</td><td>0.02129338</td></tr>\n",
       "\t<tr><td>0.50</td><td>512</td><td>0.40378549</td></tr>\n",
       "\t<tr><td>0.75</td><td>729</td><td>0.57492114</td></tr>\n",
       "\t<tr><td>1.00</td><td>  0</td><td>0.00000000</td></tr>\n",
       "</tbody>\n",
       "</table>\n"
      ],
      "text/latex": [
       "A matrix: 5 × 3 of type dbl\n",
       "\\begin{tabular}{lll}\n",
       " p & ways & prob\\\\\n",
       "\\hline\n",
       "\t 0.00 &   0 & 0.00000000\\\\\n",
       "\t 0.25 &  27 & 0.02129338\\\\\n",
       "\t 0.50 & 512 & 0.40378549\\\\\n",
       "\t 0.75 & 729 & 0.57492114\\\\\n",
       "\t 1.00 &   0 & 0.00000000\\\\\n",
       "\\end{tabular}\n"
      ],
      "text/markdown": [
       "\n",
       "A matrix: 5 × 3 of type dbl\n",
       "\n",
       "| p | ways | prob |\n",
       "|---|---|---|\n",
       "| 0.00 |   0 | 0.00000000 |\n",
       "| 0.25 |  27 | 0.02129338 |\n",
       "| 0.50 | 512 | 0.40378549 |\n",
       "| 0.75 | 729 | 0.57492114 |\n",
       "| 1.00 |   0 | 0.00000000 |\n",
       "\n"
      ],
      "text/plain": [
       "     p    ways prob      \n",
       "[1,] 0.00   0  0.00000000\n",
       "[2,] 0.25  27  0.02129338\n",
       "[3,] 0.50 512  0.40378549\n",
       "[4,] 0.75 729  0.57492114\n",
       "[5,] 1.00   0  0.00000000"
      ]
     },
     "metadata": {},
     "output_type": "display_data"
    }
   ],
   "source": [
    "cbind(p,ways,prob)"
   ]
  },
  {
   "cell_type": "code",
   "execution_count": 87,
   "metadata": {
    "vscode": {
     "languageId": "r"
    }
   },
   "outputs": [],
   "source": [
    "# Function to toss a globe covered p by water\n",
    "# N times\n",
    "simulation_globe_tossing = function(p=0.7, N=9) {\n",
    "    sample(c(\"W\",\"L\"),size = N,prob = c(p, 1-p), replace=TRUE)\n",
    "}"
   ]
  },
  {
   "cell_type": "code",
   "execution_count": 88,
   "metadata": {
    "vscode": {
     "languageId": "r"
    }
   },
   "outputs": [
    {
     "data": {
      "text/html": [
       "<style>\n",
       ".list-inline {list-style: none; margin:0; padding: 0}\n",
       ".list-inline>li {display: inline-block}\n",
       ".list-inline>li:not(:last-child)::after {content: \"\\00b7\"; padding: 0 .5ex}\n",
       "</style>\n",
       "<ol class=list-inline><li>'W'</li><li>'W'</li><li>'L'</li><li>'L'</li><li>'W'</li><li>'W'</li><li>'W'</li><li>'L'</li><li>'W'</li></ol>\n"
      ],
      "text/latex": [
       "\\begin{enumerate*}\n",
       "\\item 'W'\n",
       "\\item 'W'\n",
       "\\item 'L'\n",
       "\\item 'L'\n",
       "\\item 'W'\n",
       "\\item 'W'\n",
       "\\item 'W'\n",
       "\\item 'L'\n",
       "\\item 'W'\n",
       "\\end{enumerate*}\n"
      ],
      "text/markdown": [
       "1. 'W'\n",
       "2. 'W'\n",
       "3. 'L'\n",
       "4. 'L'\n",
       "5. 'W'\n",
       "6. 'W'\n",
       "7. 'W'\n",
       "8. 'L'\n",
       "9. 'W'\n",
       "\n",
       "\n"
      ],
      "text/plain": [
       "[1] \"W\" \"W\" \"L\" \"L\" \"W\" \"W\" \"W\" \"L\" \"W\""
      ]
     },
     "metadata": {},
     "output_type": "display_data"
    }
   ],
   "source": [
    "simulation_globe_tossing()"
   ]
  },
  {
   "cell_type": "code",
   "execution_count": 89,
   "metadata": {
    "vscode": {
     "languageId": "r"
    }
   },
   "outputs": [
    {
     "data": {
      "text/html": [
       "<table class=\"dataframe\">\n",
       "<caption>A matrix: 9 × 10 of type chr</caption>\n",
       "<tbody>\n",
       "\t<tr><td>W</td><td>W</td><td>L</td><td>W</td><td>L</td><td>L</td><td>W</td><td>L</td><td>W</td><td>L</td></tr>\n",
       "\t<tr><td>L</td><td>W</td><td>L</td><td>L</td><td>W</td><td>L</td><td>L</td><td>W</td><td>L</td><td>W</td></tr>\n",
       "\t<tr><td>L</td><td>L</td><td>L</td><td>L</td><td>L</td><td>W</td><td>W</td><td>L</td><td>L</td><td>L</td></tr>\n",
       "\t<tr><td>L</td><td>L</td><td>W</td><td>L</td><td>L</td><td>W</td><td>W</td><td>L</td><td>L</td><td>L</td></tr>\n",
       "\t<tr><td>L</td><td>L</td><td>L</td><td>W</td><td>L</td><td>L</td><td>W</td><td>W</td><td>L</td><td>L</td></tr>\n",
       "\t<tr><td>L</td><td>W</td><td>L</td><td>W</td><td>W</td><td>L</td><td>W</td><td>W</td><td>W</td><td>L</td></tr>\n",
       "\t<tr><td>L</td><td>W</td><td>W</td><td>W</td><td>W</td><td>L</td><td>L</td><td>W</td><td>W</td><td>W</td></tr>\n",
       "\t<tr><td>W</td><td>W</td><td>L</td><td>W</td><td>L</td><td>W</td><td>L</td><td>L</td><td>L</td><td>W</td></tr>\n",
       "\t<tr><td>L</td><td>W</td><td>W</td><td>W</td><td>L</td><td>W</td><td>L</td><td>L</td><td>W</td><td>W</td></tr>\n",
       "</tbody>\n",
       "</table>\n"
      ],
      "text/latex": [
       "A matrix: 9 × 10 of type chr\n",
       "\\begin{tabular}{llllllllll}\n",
       "\t W & W & L & W & L & L & W & L & W & L\\\\\n",
       "\t L & W & L & L & W & L & L & W & L & W\\\\\n",
       "\t L & L & L & L & L & W & W & L & L & L\\\\\n",
       "\t L & L & W & L & L & W & W & L & L & L\\\\\n",
       "\t L & L & L & W & L & L & W & W & L & L\\\\\n",
       "\t L & W & L & W & W & L & W & W & W & L\\\\\n",
       "\t L & W & W & W & W & L & L & W & W & W\\\\\n",
       "\t W & W & L & W & L & W & L & L & L & W\\\\\n",
       "\t L & W & W & W & L & W & L & L & W & W\\\\\n",
       "\\end{tabular}\n"
      ],
      "text/markdown": [
       "\n",
       "A matrix: 9 × 10 of type chr\n",
       "\n",
       "| W | W | L | W | L | L | W | L | W | L |\n",
       "| L | W | L | L | W | L | L | W | L | W |\n",
       "| L | L | L | L | L | W | W | L | L | L |\n",
       "| L | L | W | L | L | W | W | L | L | L |\n",
       "| L | L | L | W | L | L | W | W | L | L |\n",
       "| L | W | L | W | W | L | W | W | W | L |\n",
       "| L | W | W | W | W | L | L | W | W | W |\n",
       "| W | W | L | W | L | W | L | L | L | W |\n",
       "| L | W | W | W | L | W | L | L | W | W |\n",
       "\n"
      ],
      "text/plain": [
       "      [,1] [,2] [,3] [,4] [,5] [,6] [,7] [,8] [,9] [,10]\n",
       " [1,] W    W    L    W    L    L    W    L    W    L    \n",
       " [2,] L    W    L    L    W    L    L    W    L    W    \n",
       " [3,] L    L    L    L    L    W    W    L    L    L    \n",
       " [4,] L    L    W    L    L    W    W    L    L    L    \n",
       " [5,] L    L    L    W    L    L    W    W    L    L    \n",
       " [6,] L    W    L    W    W    L    W    W    W    L    \n",
       " [7,] L    W    W    W    W    L    L    W    W    W    \n",
       " [8,] W    W    L    W    L    W    L    L    L    W    \n",
       " [9,] L    W    W    W    L    W    L    L    W    W    "
      ]
     },
     "metadata": {},
     "output_type": "display_data"
    }
   ],
   "source": [
    "replicate(simulation_globe_tossing(p=0.5, N=9), n=10)"
   ]
  },
  {
   "cell_type": "code",
   "execution_count": 90,
   "metadata": {
    "vscode": {
     "languageId": "r"
    }
   },
   "outputs": [
    {
     "data": {
      "text/html": [
       "0.4985"
      ],
      "text/latex": [
       "0.4985"
      ],
      "text/markdown": [
       "0.4985"
      ],
      "text/plain": [
       "[1] 0.4985"
      ]
     },
     "metadata": {},
     "output_type": "display_data"
    }
   ],
   "source": [
    "# We can test the simulation on extreme settings\n",
    "# To find any problems or bugs \n",
    "# For a large number of simulations and \n",
    "# proportion set to 0.5 we should get a value close to\n",
    "# 0.5 for water in the set of simulations\n",
    "lots_of_simulations = simulation_globe_tossing(p=0.5, N=1e4)\n",
    "sum(lots_of_simulations == \"W\")/length(lots_of_simulations)"
   ]
  },
  {
   "cell_type": "code",
   "execution_count": 91,
   "metadata": {
    "vscode": {
     "languageId": "r"
    }
   },
   "outputs": [],
   "source": [
    "# Now we can code the estimator\\\n",
    "\n",
    "# Function to compute the posterior distribution\n",
    "compute_posterior = function(the_sample, \n",
    "                            possibilities = c(0, 0.25, 0.5, 0.75, 1)) {\n",
    "    W = sum(the_sample==\"W\")\n",
    "    L = sum(the_sample==\"L\")\n",
    "    ways = sapply(p, function(q) (q*4)^W*(4-4*q)^L)\n",
    "    post = ways/sum(ways)\n",
    "    # bars = sapply(post, function(q) make_bar(q))\n",
    "    data.frame(possibilities, ways, post=round(post,3))\n",
    "                                }"
   ]
  },
  {
   "cell_type": "code",
   "execution_count": 92,
   "metadata": {
    "vscode": {
     "languageId": "r"
    }
   },
   "outputs": [
    {
     "data": {
      "text/html": [
       "<table class=\"dataframe\">\n",
       "<caption>A data.frame: 5 × 3</caption>\n",
       "<thead>\n",
       "\t<tr><th scope=col>possibilities</th><th scope=col>ways</th><th scope=col>post</th></tr>\n",
       "\t<tr><th scope=col>&lt;dbl&gt;</th><th scope=col>&lt;dbl&gt;</th><th scope=col>&lt;dbl&gt;</th></tr>\n",
       "</thead>\n",
       "<tbody>\n",
       "\t<tr><td>0.00</td><td>0.000000e+00</td><td>0</td></tr>\n",
       "\t<tr><td>0.25</td><td>3.090315e+31</td><td>0</td></tr>\n",
       "\t<tr><td>0.50</td><td>1.606938e+60</td><td>0</td></tr>\n",
       "\t<tr><td>0.75</td><td>8.595045e+63</td><td>1</td></tr>\n",
       "\t<tr><td>1.00</td><td>0.000000e+00</td><td>0</td></tr>\n",
       "</tbody>\n",
       "</table>\n"
      ],
      "text/latex": [
       "A data.frame: 5 × 3\n",
       "\\begin{tabular}{lll}\n",
       " possibilities & ways & post\\\\\n",
       " <dbl> & <dbl> & <dbl>\\\\\n",
       "\\hline\n",
       "\t 0.00 & 0.000000e+00 & 0\\\\\n",
       "\t 0.25 & 3.090315e+31 & 0\\\\\n",
       "\t 0.50 & 1.606938e+60 & 0\\\\\n",
       "\t 0.75 & 8.595045e+63 & 1\\\\\n",
       "\t 1.00 & 0.000000e+00 & 0\\\\\n",
       "\\end{tabular}\n"
      ],
      "text/markdown": [
       "\n",
       "A data.frame: 5 × 3\n",
       "\n",
       "| possibilities &lt;dbl&gt; | ways &lt;dbl&gt; | post &lt;dbl&gt; |\n",
       "|---|---|---|\n",
       "| 0.00 | 0.000000e+00 | 0 |\n",
       "| 0.25 | 3.090315e+31 | 0 |\n",
       "| 0.50 | 1.606938e+60 | 0 |\n",
       "| 0.75 | 8.595045e+63 | 1 |\n",
       "| 1.00 | 0.000000e+00 | 0 |\n",
       "\n"
      ],
      "text/plain": [
       "  possibilities ways         post\n",
       "1 0.00          0.000000e+00 0   \n",
       "2 0.25          3.090315e+31 0   \n",
       "3 0.50          1.606938e+60 0   \n",
       "4 0.75          8.595045e+63 1   \n",
       "5 1.00          0.000000e+00 0   "
      ]
     },
     "metadata": {},
     "output_type": "display_data"
    }
   ],
   "source": [
    "compute_posterior(simulation_globe_tossing(p=0.7, N=200))"
   ]
  },
  {
   "cell_type": "code",
   "execution_count": 93,
   "metadata": {
    "vscode": {
     "languageId": "r"
    }
   },
   "outputs": [
    {
     "data": {
      "image/png": "[encoded data removed]",
      "text/plain": [
       "Plot with title \"Posterior Beta Distribution\""
      ]
     },
     "metadata": {
      "image/png": {
       "height": 420,
       "width": 420
      }
     },
     "output_type": "display_data"
    }
   ],
   "source": [
    "# Set prior parameters (assuming Beta(1,1) as the prior)\n",
    "alpha <- 1\n",
    "beta <- 1\n",
    "\n",
    "# Update with observed data\n",
    "W <- 2  # Number of water observations\n",
    "L <- 1  # Number of land observations\n",
    "\n",
    "# Posterior parameters\n",
    "posterior_alpha <- alpha + W\n",
    "posterior_beta <- beta + L\n",
    "\n",
    "# Plot the posterior Beta distribution\n",
    "curve(dbeta(x, posterior_alpha, posterior_beta), from = 0, to = 1,\n",
    "      main = \"Posterior Beta Distribution\",\n",
    "      xlab = \"Proportion of Water\",\n",
    "      ylab = \"Density\",\n",
    "      col = \"blue\", lwd = 2)"
   ]
  },
  {
   "cell_type": "code",
   "execution_count": 94,
   "metadata": {
    "vscode": {
     "languageId": "r"
    }
   },
   "outputs": [
    {
     "data": {
      "text/html": [
       "0.5"
      ],
      "text/latex": [
       "0.5"
      ],
      "text/markdown": [
       "0.5"
      ],
      "text/plain": [
       "[1] 0.5"
      ]
     },
     "metadata": {},
     "output_type": "display_data"
    }
   ],
   "source": [
    "posterior_prob"
   ]
  },
  {
   "cell_type": "code",
   "execution_count": 95,
   "metadata": {
    "vscode": {
     "languageId": "r"
    }
   },
   "outputs": [
    {
     "data": {
      "text/html": [
       "<style>\n",
       ".list-inline {list-style: none; margin:0; padding: 0}\n",
       ".list-inline>li {display: inline-block}\n",
       ".list-inline>li:not(:last-child)::after {content: \"\\00b7\"; padding: 0 .5ex}\n",
       "</style>\n",
       "<ol class=list-inline><li>0</li><li>0.1875</li><li>0.25</li><li>0.1875</li><li>0</li></ol>\n"
      ],
      "text/latex": [
       "\\begin{enumerate*}\n",
       "\\item 0\n",
       "\\item 0.1875\n",
       "\\item 0.25\n",
       "\\item 0.1875\n",
       "\\item 0\n",
       "\\end{enumerate*}\n"
      ],
      "text/markdown": [
       "1. 0\n",
       "2. 0.1875\n",
       "3. 0.25\n",
       "4. 0.1875\n",
       "5. 0\n",
       "\n",
       "\n"
      ],
      "text/plain": [
       "[1] 0.0000 0.1875 0.2500 0.1875 0.0000"
      ]
     },
     "metadata": {},
     "output_type": "display_data"
    }
   ],
   "source": [
    "p*(1-p)"
   ]
  },
  {
   "cell_type": "code",
   "execution_count": 96,
   "metadata": {
    "vscode": {
     "languageId": "r"
    }
   },
   "outputs": [
    {
     "data": {
      "image/png": "[encoded data removed]",
      "text/plain": [
       "Plot with title \"Plot of p^W * (1 - p)^L\""
      ]
     },
     "metadata": {
      "image/png": {
       "height": 420,
       "width": 420
      }
     },
     "output_type": "display_data"
    }
   ],
   "source": [
    "# Define the function with parameters W and L\n",
    "f <- function(p, W, L) {\n",
    "  p^W * (1 - p)^L\n",
    "}\n",
    "\n",
    "# Set W and L values\n",
    "W <- 5\n",
    "L <- 3\n",
    "\n",
    "# Generate a sequence of p values from 0 to 1\n",
    "p_vals <- seq(0, 1, length.out = 100)\n",
    "\n",
    "# Compute the values of the function for each p with W and L specified\n",
    "f_vals <- sapply(p_vals, f, W = W, L = L)\n",
    "\n",
    "# Plot the function\n",
    "plot(p_vals, f_vals, type = \"l\", col = \"red\", lwd = 2,\n",
    "     main = \"Plot of p^W * (1 - p)^L\",\n",
    "     xlab = \"p\", ylab = expression(p^W * (1 - p)^L))\n"
   ]
  },
  {
   "cell_type": "code",
   "execution_count": 97,
   "metadata": {
    "vscode": {
     "languageId": "r"
    }
   },
   "outputs": [
    {
     "name": "stderr",
     "output_type": "stream",
     "text": [
      "Installing packages into 'C:/Users/Kuba/AppData/Local/R/win-library/4.3'\n",
      "(as 'lib' is unspecified)\n",
      "\n"
     ]
    },
    {
     "name": "stdout",
     "output_type": "stream",
     "text": [
      "package 'coda' successfully unpacked and MD5 sums checked\n",
      "package 'mvtnorm' successfully unpacked and MD5 sums checked\n"
     ]
    },
    {
     "name": "stderr",
     "output_type": "stream",
     "text": [
      "Warning message:\n",
      "\"cannot remove prior installation of package 'mvtnorm'\"\n",
      "Warning message in file.copy(savedcopy, lib, recursive = TRUE):\n",
      "\"problem copying C:\\Users\\Kuba\\AppData\\Local\\R\\win-library\\4.3\\00LOCK\\mvtnorm\\libs\\x64\\mvtnorm.dll to C:\\Users\\Kuba\\AppData\\Local\\R\\win-library\\4.3\\mvtnorm\\libs\\x64\\mvtnorm.dll: Permission denied\"\n",
      "Warning message:\n",
      "\"restored 'mvtnorm'\"\n"
     ]
    },
    {
     "name": "stdout",
     "output_type": "stream",
     "text": [
      "package 'devtools' successfully unpacked and MD5 sums checked\n",
      "package 'loo' successfully unpacked and MD5 sums checked\n",
      "package 'dagitty' successfully unpacked and MD5 sums checked\n",
      "\n",
      "The downloaded binary packages are in\n",
      "\tC:\\Users\\Kuba\\AppData\\Local\\Temp\\RtmpikDeyY\\downloaded_packages\n"
     ]
    },
    {
     "name": "stderr",
     "output_type": "stream",
     "text": [
      "Skipping install of 'rethinking' from a github remote, the SHA1 (cbcb8ba7) has not changed since last install.\n",
      "  Use `force = TRUE` to force installation\n",
      "\n"
     ]
    }
   ],
   "source": [
    "install.packages(c(\"coda\",\"mvtnorm\",\"devtools\",\"loo\",\"dagitty\"))\n",
    "devtools::install_github(\"rmcelreath/rethinking@slim\")\n"
   ]
  },
  {
   "cell_type": "code",
   "execution_count": 98,
   "metadata": {
    "vscode": {
     "languageId": "r"
    }
   },
   "outputs": [],
   "source": [
    "library(rethinking)"
   ]
  },
  {
   "cell_type": "code",
   "execution_count": 99,
   "metadata": {
    "vscode": {
     "languageId": "r"
    }
   },
   "outputs": [
    {
     "data": {
      "text/html": [
       "<style>\n",
       ".list-inline {list-style: none; margin:0; padding: 0}\n",
       ".list-inline>li {display: inline-block}\n",
       ".list-inline>li:not(:last-child)::after {content: \"\\00b7\"; padding: 0 .5ex}\n",
       "</style>\n",
       "<ol class=list-inline><li>0.62185870680979</li><li>0.56313072333701</li><li>0.435720723332841</li><li>0.515253822520707</li><li>0.481784790978217</li><li>0.4417694120522</li></ol>\n"
      ],
      "text/latex": [
       "\\begin{enumerate*}\n",
       "\\item 0.62185870680979\n",
       "\\item 0.56313072333701\n",
       "\\item 0.435720723332841\n",
       "\\item 0.515253822520707\n",
       "\\item 0.481784790978217\n",
       "\\item 0.4417694120522\n",
       "\\end{enumerate*}\n"
      ],
      "text/markdown": [
       "1. 0.62185870680979\n",
       "2. 0.56313072333701\n",
       "3. 0.435720723332841\n",
       "4. 0.515253822520707\n",
       "5. 0.481784790978217\n",
       "6. 0.4417694120522\n",
       "\n",
       "\n"
      ],
      "text/plain": [
       "[1] 0.6218587 0.5631307 0.4357207 0.5152538 0.4817848 0.4417694"
      ]
     },
     "metadata": {},
     "output_type": "display_data"
    }
   ],
   "source": [
    "# So we can sample from the posterior distribution say a 1000 samples of possible proportions of water\n",
    "posterior_samples = rbeta(n=1000, 6+1, 3+1)\n",
    "head(posterior_samples)\n"
   ]
  },
  {
   "cell_type": "code",
   "execution_count": 100,
   "metadata": {
    "vscode": {
     "languageId": "r"
    }
   },
   "outputs": [
    {
     "data": {
      "image/png": "[encoded data removed]",
      "text/plain": [
       "Plot with title \"\""
      ]
     },
     "metadata": {
      "image/png": {
       "height": 420,
       "width": 420
      }
     },
     "output_type": "display_data"
    }
   ],
   "source": [
    "dens(posterior_samples, lwd=4, col=2, xlab='proportion water', adj=0.1)\n",
    "# curve(dbeta(x,6+1, 3+1), add=T, lty=2, lwd=3)"
   ]
  },
  {
   "cell_type": "code",
   "execution_count": 101,
   "metadata": {
    "vscode": {
     "languageId": "r"
    }
   },
   "outputs": [],
   "source": [
    "# So what do we do with this sample?\n",
    "# We can do posterior predictive distribution\n",
    "# Posterior prediction is a prediction for a future experiment thats made from the existing estimate\n",
    "# So we want to say given what we have learned about the globe so far, what would happen if we took\n",
    "# more samples from it\n",
    "# So we will get predictions about future samples\n",
    "# so we can imagine taking 10 more tosses or whateva\n",
    "# How many Ws we expect to see in the next 10 tosses"
   ]
  },
  {
   "cell_type": "code",
   "execution_count": 102,
   "metadata": {
    "vscode": {
     "languageId": "r"
    }
   },
   "outputs": [],
   "source": [
    "# So firstly we take these samples from the posterior distribution\n",
    "# that is random samples of the proportion of water\n",
    "# And then for EACH of these samples, we compute somethging called SAMPLING DISTRIBUTION or a PREDICTIVE DISTRIBUTION for possible experiments"
   ]
  },
  {
   "cell_type": "code",
   "execution_count": 103,
   "metadata": {
    "vscode": {
     "languageId": "r"
    }
   },
   "outputs": [],
   "source": [
    "# and then we can compute a POSTERIOR PREDICTIVE DISTRIBUTION that contains all the predictive distributions"
   ]
  },
  {
   "cell_type": "code",
   "execution_count": 112,
   "metadata": {
    "vscode": {
     "languageId": "r"
    }
   },
   "outputs": [
    {
     "data": {
      "text/plain": [
       "pred_post\n",
       "   0    1    2    3    4    5    6    7    8    9   10 \n",
       "  20   85  247  552  904 1437 1755 1895 1645 1035  425 "
      ]
     },
     "metadata": {},
     "output_type": "display_data"
    }
   ],
   "source": [
    "# so lets look at this, we simulate the posterior predictive distribution\n",
    "post_samples = rbeta(1e4, 6+1, 3+1)\n",
    "\n",
    "pred_post = sapply(post_samples, function(p) sum(simulation_globe_tossing(p,10)==\"W\"))\n",
    "tab_post =table(pred_post)\n",
    "tab_post"
   ]
  },
  {
   "cell_type": "code",
   "execution_count": 115,
   "metadata": {
    "vscode": {
     "languageId": "r"
    }
   },
   "outputs": [
    {
     "data": {
      "image/png": "[encoded data removed]",
      "text/plain": [
       "Plot with title \"Posterior Predictive Distribution\""
      ]
     },
     "metadata": {
      "image/png": {
       "height": 420,
       "width": 420
      }
     },
     "output_type": "display_data"
    }
   ],
   "source": [
    "plot(0:10, tab_post, type = \"h\", lwd = 4, col = \"blue\",\n",
    "     xlab = \"Number of Water Outcomes (W) in 10 Tosses\",\n",
    "     ylab = \"Frequency\",\n",
    "     main = \"Posterior Predictive Distribution\")\n",
    "\n",
    "# Draw vertical lines for each outcome count\n",
    "for (i in 0:10) {\n",
    "  lines(c(i, i), c(0, tab_post[i + 1]), lwd = 4, col = 4)\n",
    "}"
   ]
  },
  {
   "cell_type": "code",
   "execution_count": null,
   "metadata": {
    "vscode": {
     "languageId": "r"
    }
   },
   "outputs": [],
   "source": []
  }
 ],
 "metadata": {
  "kernelspec": {
   "display_name": "R",
   "language": "R",
   "name": "ir"
  },
  "language_info": {
   "codemirror_mode": "r",
   "file_extension": ".r",
   "mimetype": "text/x-r-source",
   "name": "R",
   "pygments_lexer": "r",
   "version": "4.3.2"
  }
 },
 "nbformat": 4,
 "nbformat_minor": 2
}
