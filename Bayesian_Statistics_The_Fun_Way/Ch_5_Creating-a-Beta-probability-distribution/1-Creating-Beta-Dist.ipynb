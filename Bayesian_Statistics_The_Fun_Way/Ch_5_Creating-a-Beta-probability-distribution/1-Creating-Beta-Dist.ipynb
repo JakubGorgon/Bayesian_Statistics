{
 "cells": [
  {
   "cell_type": "code",
   "execution_count": 2,
   "metadata": {
    "vscode": {
     "languageId": "r"
    }
   },
   "outputs": [
    {
     "data": {
      "text/plain": [
       "0.9807613 with absolute error < 5.9e-06"
      ]
     },
     "metadata": {},
     "output_type": "display_data"
    }
   ],
   "source": [
    "# Beta distribution, with 14 positive outcomes, 27 negative outcomes. We want to know\n",
    "# what is the probability of getting a positive outcome given our data\n",
    "# And here we compute the probability of getting the positive outcome is less than or equal to 0.5\n",
    "# So here the prob that the chance of getting a positive outcome is less than or equal to  0.5 is 98%\n",
    "integrate(function(p) dbeta(p,14,27),0,0.5)"
   ]
  },
  {
   "cell_type": "code",
   "execution_count": 5,
   "metadata": {
    "vscode": {
     "languageId": "r"
    }
   },
   "outputs": [
    {
     "data": {
      "text/plain": [
       "0.2850559 with absolute error < 1e-04"
      ]
     },
     "metadata": {},
     "output_type": "display_data"
    }
   ],
   "source": [
    "# EXAMPLE\n",
    "# we draw cards again with replacement. \n",
    "# we want card X. we draw 5 cards X out of 1200 total cards pulled\n",
    "# we now want to know what is the chance that the probability of pulling card X is larger than 0.005\n",
    "# specifically we want to know if there is a 0.7 or more chance that the probability of pulling card x is more than 0.005\n",
    "integrate(function(x) dbeta(x,5,1195), 0.005,1)\n",
    "# And so we see that the probability that the chance of pulling the card is more the 0.0005 is only around 28%"
   ]
  },
  {
   "cell_type": "code",
   "execution_count": 7,
   "metadata": {
    "vscode": {
     "languageId": "r"
    }
   },
   "outputs": [
    {
     "data": {
      "text/plain": [
       "0.09935258 with absolute error < 1.1e-15"
      ]
     },
     "metadata": {},
     "output_type": "display_data"
    }
   ],
   "source": [
    "# EXERCISES\n",
    "# 1\n",
    "integrate(function(x) dbeta(x,4,6), 0.6,1)"
   ]
  },
  {
   "cell_type": "code",
   "execution_count": 9,
   "metadata": {
    "vscode": {
     "languageId": "r"
    }
   },
   "outputs": [
    {
     "data": {
      "text/plain": [
       "0.30988 with absolute error < 3.4e-15"
      ]
     },
     "metadata": {},
     "output_type": "display_data"
    }
   ],
   "source": [
    "# 2\n",
    "integrate(function(x) dbeta(x,9,11), 0.45, 0.55)"
   ]
  },
  {
   "cell_type": "code",
   "execution_count": 10,
   "metadata": {
    "vscode": {
     "languageId": "r"
    }
   },
   "outputs": [
    {
     "data": {
      "text/plain": [
       "0.8589371 with absolute error < 9.5e-15"
      ]
     },
     "metadata": {},
     "output_type": "display_data"
    }
   ],
   "source": [
    "# 3\n",
    "integrate(function(x) dbeta(x,109,111), 0.45, 0.55)"
   ]
  },
  {
   "cell_type": "code",
   "execution_count": null,
   "metadata": {
    "vscode": {
     "languageId": "r"
    }
   },
   "outputs": [],
   "source": []
  }
 ],
 "metadata": {
  "kernelspec": {
   "display_name": "R",
   "language": "R",
   "name": "ir"
  },
  "language_info": {
   "codemirror_mode": "r",
   "file_extension": ".r",
   "mimetype": "text/x-r-source",
   "name": "R",
   "pygments_lexer": "r",
   "version": "4.3.2"
  }
 },
 "nbformat": 4,
 "nbformat_minor": 2
}
