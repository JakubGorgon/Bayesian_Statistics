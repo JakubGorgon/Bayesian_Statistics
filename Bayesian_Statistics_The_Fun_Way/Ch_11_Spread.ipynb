{
 "cells": [
  {
   "cell_type": "code",
   "execution_count": 56,
   "metadata": {},
   "outputs": [],
   "source": [
    "import numpy as np\n",
    "values = list(range(1,11))\n",
    "\n",
    "distances = 0"
   ]
  },
  {
   "cell_type": "code",
   "execution_count": 57,
   "metadata": {},
   "outputs": [],
   "source": [
    "for val in values:\n",
    "    distance = np.abs((val)-np.mean(values))\n",
    "    distances = distances+distance\n",
    "mad = 1/len(values)*distances"
   ]
  },
  {
   "cell_type": "code",
   "execution_count": 72,
   "metadata": {},
   "outputs": [],
   "source": [
    "def compute_mad_var_std(values=list(range(1,11))):\n",
    "    distances = 0\n",
    "    squared_distances = 0\n",
    "    sum_ = 0\n",
    "    \n",
    "    for val in values:\n",
    "        sum_ = sum_+val\n",
    "    mean = sum_/len(values)\n",
    "    \n",
    "    for val in values:\n",
    "        distance = np.abs(val-mean)\n",
    "        distances += distance\n",
    "\n",
    "        squared_dist = (val-mean)**2\n",
    "        squared_distances+=squared_dist\n",
    "        \n",
    "    mad = 1/len(values)*distances    \n",
    "    var = 1/len(values)*squared_distances\n",
    "    std = np.sqrt(var)\n",
    "    \n",
    "    print(f\"\"\"mad: {mad}\n",
    "var: {var}\n",
    "std: {std}\"\"\")"
   ]
  },
  {
   "cell_type": "code",
   "execution_count": 73,
   "metadata": {},
   "outputs": [
    {
     "name": "stdout",
     "output_type": "stream",
     "text": [
      "mad: 2.5\n",
      "var: 8.25\n",
      "std: 2.8722813232690143\n"
     ]
    }
   ],
   "source": [
    "compute_mad_var_std()"
   ]
  },
  {
   "cell_type": "code",
   "execution_count": null,
   "metadata": {},
   "outputs": [],
   "source": []
  }
 ],
 "metadata": {
  "kernelspec": {
   "display_name": "statistical-rethinking-2023",
   "language": "python",
   "name": "python3"
  },
  "language_info": {
   "codemirror_mode": {
    "name": "ipython",
    "version": 3
   },
   "file_extension": ".py",
   "mimetype": "text/x-python",
   "name": "python",
   "nbconvert_exporter": "python",
   "pygments_lexer": "ipython3",
   "version": "3.10.12"
  }
 },
 "nbformat": 4,
 "nbformat_minor": 2
}
