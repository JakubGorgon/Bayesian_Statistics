{
 "cells": [
  {
   "cell_type": "markdown",
   "metadata": {
    "vscode": {
     "languageId": "r"
    }
   },
   "source": [
    "Creating a binomial probability distribution"
   ]
  },
  {
   "cell_type": "code",
   "execution_count": 2,
   "metadata": {
    "vscode": {
     "languageId": "r"
    }
   },
   "outputs": [
    {
     "data": {
      "text/html": [
       "0.514513845254295"
      ],
      "text/latex": [
       "0.514513845254295"
      ],
      "text/markdown": [
       "0.514513845254295"
      ],
      "text/plain": [
       "[1] 0.5145138"
      ]
     },
     "metadata": {},
     "output_type": "display_data"
    }
   ],
   "source": [
    "pbinom(er.tail=F)"
   ]
  },
  {
   "cell_type": "markdown",
   "metadata": {},
   "source": [
    "EXERCICES:\n",
    "1. What are the paramaaters of the binomial distribution for the probability of rolling either a 1 or a 20 on a 20 sided die if we roll 12 times\n",
    "2. there are 4 aces in a deck of 52 cards. if we pull a card, return it and then reshuffle and pull a card again, how manyt ways can you pull just one ace in five pulls\n",
    "3. "
   ]
  },
  {
   "cell_type": "code",
   "execution_count": 3,
   "metadata": {
    "vscode": {
     "languageId": "r"
    }
   },
   "outputs": [],
   "source": [
    "# 1\n",
    "p = 1/20\n",
    "k = 2\n",
    "n = 12"
   ]
  },
  {
   "cell_type": "code",
   "execution_count": 4,
   "metadata": {
    "vscode": {
     "languageId": "r"
    }
   },
   "outputs": [
    {
     "data": {
      "text/html": [
       "5"
      ],
      "text/latex": [
       "5"
      ],
      "text/markdown": [
       "5"
      ],
      "text/plain": [
       "[1] 5"
      ]
     },
     "metadata": {},
     "output_type": "display_data"
    }
   ],
   "source": [
    "# 2 \n",
    "choose(5,1)"
   ]
  },
  {
   "cell_type": "code",
   "execution_count": 8,
   "metadata": {
    "vscode": {
     "languageId": "r"
    }
   },
   "outputs": [
    {
     "data": {
      "text/html": [
       "0.000454855287904086"
      ],
      "text/latex": [
       "0.000454855287904086"
      ],
      "text/markdown": [
       "0.000454855287904086"
      ],
      "text/plain": [
       "[1] 0.0004548553"
      ]
     },
     "metadata": {},
     "output_type": "display_data"
    }
   ],
   "source": [
    "# 3\n",
    "p = 4/52\n",
    "k = 5\n",
    "n = 10\n",
    "prob = choose(n=n,k=k)*p**k*(1-p)**(n-k)\n",
    "prob"
   ]
  },
  {
   "cell_type": "code",
   "execution_count": 10,
   "metadata": {
    "vscode": {
     "languageId": "r"
    }
   },
   "outputs": [
    {
     "data": {
      "text/html": [
       "0.4232832"
      ],
      "text/latex": [
       "0.4232832"
      ],
      "text/markdown": [
       "0.4232832"
      ],
      "text/plain": [
       "[1] 0.4232832"
      ]
     },
     "metadata": {},
     "output_type": "display_data"
    }
   ],
   "source": [
    "#4\n",
    "p = 1/5\n",
    "n = 7\n",
    "\n",
    "pbinom(1, n, p,lower.tail = FALSE) #MORE IN PYTHON FILE!!!!!!!!!"
   ]
  },
  {
   "cell_type": "code",
   "execution_count": null,
   "metadata": {
    "vscode": {
     "languageId": "r"
    }
   },
   "outputs": [],
   "source": []
  }
 ],
 "metadata": {
  "kernelspec": {
   "display_name": "R",
   "language": "R",
   "name": "ir"
  },
  "language_info": {
   "codemirror_mode": "r",
   "file_extension": ".r",
   "mimetype": "text/x-r-source",
   "name": "R",
   "pygments_lexer": "r",
   "version": "4.3.2"
  }
 },
 "nbformat": 4,
 "nbformat_minor": 2
}
